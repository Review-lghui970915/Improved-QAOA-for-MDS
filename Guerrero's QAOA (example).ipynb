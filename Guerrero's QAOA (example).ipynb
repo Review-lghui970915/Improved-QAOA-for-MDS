{
 "cells": [
  {
   "cell_type": "code",
   "execution_count": 1,
   "metadata": {},
   "outputs": [
    {
     "name": "stdout",
     "output_type": "stream",
     "text": [
      "Modules imported successfully!\n"
     ]
    }
   ],
   "source": [
    "import warnings\n",
    "warnings.filterwarnings(\"ignore\", category=UserWarning)\n",
    "\n",
    "from mindquantum.core.circuit import Circuit,shift, UN\n",
    "from mindquantum.core.gates import H,X,Y,Z, RX, RY, RZ,Measure\n",
    "from mindquantum.core.operators import Hamiltonian,TimeEvolution, QubitOperator\n",
    "from mindquantum.framework import MQAnsatzOnlyLayer\n",
    "from mindquantum.simulator import inner_product, Simulator\n",
    "from mindquantum.algorithm.nisq import HardwareEfficientAnsatz\n",
    "from mindspore.common.parameter import Parameter\n",
    "\n",
    "import networkx as nx\n",
    "import mindspore.nn as nn\n",
    "import mindspore as ms\n",
    "import matplotlib.pyplot as plt\n",
    "import numpy as np  \n",
    "import random\n",
    "import itertools\n",
    "import pandas as pd\n",
    "\n",
    "print('Modules imported successfully!')"
   ]
  },
  {
   "cell_type": "markdown",
   "metadata": {},
   "source": [
    "# The graph to be solved."
   ]
  },
  {
   "cell_type": "code",
   "execution_count": 2,
   "metadata": {},
   "outputs": [
    {
     "data": {
      "image/png": "[encoded data removed]",
      "text/plain": [
       "<Figure size 400x400 with 1 Axes>"
      ]
     },
     "metadata": {},
     "output_type": "display_data"
    }
   ],
   "source": [
    "# Construction the solved graph\n",
    "G = nx.Graph()\n",
    "G.add_edges_from([(0, 1), (0, 2), (1, 2), (2, 3)])\n",
    "G.add_nodes_from(range(4))\n",
    "qubit_num = len(G.nodes) + 1\n",
    "\n",
    "plt.figure(figsize=(4, 4))              # Set the figure canvas size\n",
    "pos = nx.spring_layout(G, seed = 48)    # Make the layout fixed every time (seed)\n",
    "nx.draw(G,pos, with_labels=True, alpha=1.0, node_size=600, font_size=14, font_color=\"white\", width=1)\n",
    "plt.title(\"4-vertex example graph\", fontsize=16)\n",
    "plt.show()"
   ]
  },
  {
   "cell_type": "markdown",
   "metadata": {},
   "source": [
    "# Output all possible dominating sets and their numbers"
   ]
  },
  {
   "cell_type": "markdown",
   "metadata": {},
   "source": [
    "It uses a classic exhaustive algorithm and can only be used for small-scale graph instances."
   ]
  },
  {
   "cell_type": "code",
   "execution_count": 3,
   "metadata": {},
   "outputs": [
    {
     "name": "stdout",
     "output_type": "stream",
     "text": [
      "The number of minimum dominating sets: 1\n",
      "All possible minimum dominating sets:\n",
      "{2}\n"
     ]
    }
   ],
   "source": [
    "def is_dominating_set(graph, vertex_set):\n",
    "    \"\"\"\n",
    "    Determines whether the given vertex set is a dominating set.\n",
    "    \n",
    "    Args:\n",
    "        vertex_set (set or list): A set of vertices to check.\n",
    "    \n",
    "    Returns:\n",
    "        bool: True if vertex_set is a dominating set; otherwise False.\n",
    "    \"\"\"\n",
    "    dominated = set(vertex_set)\n",
    "    for v in vertex_set:\n",
    "        dominated.update(graph.neighbors(v))  # Add neighbors of v\n",
    "    \n",
    "    return dominated == set(graph.nodes())\n",
    "\n",
    "def find_all_dominating_sets(graph):\n",
    "    \"\"\"\n",
    "    Enumerate all possible dominating sets.\n",
    "    \n",
    "    Returns:\n",
    "        list[set]: A list of all dominating sets.\n",
    "    \"\"\"\n",
    "    all_dominating_sets = []\n",
    "    n = len(graph.nodes())\n",
    "    \n",
    "    for r in range(1, n + 1):  # Try all possible subset sizes\n",
    "        for subset in itertools.combinations(graph.nodes(), r):\n",
    "            if is_dominating_set(graph, subset):\n",
    "                all_dominating_sets.append(set(subset))\n",
    "    return all_dominating_sets\n",
    "\n",
    "def find_minimum_dominating_sets(graph):\n",
    "    \"\"\"\n",
    "    Find all minimum dominating sets (smallest size).\n",
    "    \n",
    "    Returns:\n",
    "        list[set]: A list of minimum dominating sets.\n",
    "    \"\"\"\n",
    "    all_dominating_sets = find_all_dominating_sets(graph)\n",
    "    min_size = min(len(ds) for ds in all_dominating_sets)\n",
    "    minimum_dominating_sets = [ds for ds in all_dominating_sets if len(ds) == min_size]\n",
    "    return minimum_dominating_sets\n",
    "\n",
    "# Get all possible minimum dominating sets\n",
    "minimum_dominating_sets = find_minimum_dominating_sets(G)\n",
    "\n",
    "print(f\"The number of minimum dominating sets: {len(minimum_dominating_sets)}\")\n",
    "print(\"All possible minimum dominating sets:\")\n",
    "for mds in minimum_dominating_sets:\n",
    "    print(mds)"
   ]
  },
  {
   "cell_type": "code",
   "execution_count": 4,
   "metadata": {},
   "outputs": [
    {
     "name": "stdout",
     "output_type": "stream",
     "text": [
      "['0010']\n"
     ]
    }
   ],
   "source": [
    "def target_set_to_bitstring(target_set_list, n_vertices = 4):\n",
    "    \"\"\"\n",
    "    Convert target sets to bitstring lists of length n_vertices\n",
    "    \"\"\"\n",
    "    bitstrings = []\n",
    "    for target_set in target_set_list:\n",
    "        bits = ['0'] * n_vertices\n",
    "        for v in target_set:\n",
    "            bits[v] = '1'\n",
    "        bitstrings.append(''.join(bits))\n",
    "    return bitstrings\n",
    "\n",
    "\n",
    "target_sets = minimum_dominating_sets\n",
    "\n",
    "target_bit_strings = target_set_to_bitstring(target_sets)\n",
    "print(target_bit_strings)"
   ]
  },
  {
   "cell_type": "markdown",
   "metadata": {},
   "source": [
    "# Construct the corresponding problem Hamiltonian Hp"
   ]
  },
  {
   "cell_type": "code",
   "execution_count": 5,
   "metadata": {},
   "outputs": [
    {
     "name": "stdout",
     "output_type": "stream",
     "text": [
      "The constructed Hamiltonian is：\n",
      "Z0*Z1*Z2*Z3/16 + 5*Z0*Z1*Z2/16 + Z0*Z1*Z3/16 + 5*Z0*Z1/16 + Z0*Z2*Z3/16 + 5*Z0*Z2/16 + Z0*Z3/16 - 3*Z0/16 + Z1*Z2*Z3/16 + 5*Z1*Z2/16 + Z1*Z3/16 - 3*Z1/16 + 5*Z2*Z3/16 + Z2/16 - 3*Z3/16 - 87/16\n"
     ]
    }
   ],
   "source": [
    "import networkx as nx\n",
    "from sympy import symbols, expand, simplify\n",
    "\n",
    "def construct_mds_hamiltonian(graph):\n",
    "    \"\"\"\n",
    "    parameter：\n",
    "        graph (networkx.Graph): Input undirected graph.\n",
    "        penalty_coef (float): The coefficient of the penalty term.\n",
    "\n",
    "    return：\n",
    "        sympy.Expr: A symbolic expression representing the Hamiltonian.\n",
    "    \"\"\"\n",
    "    # define variables\n",
    "    x_vars = symbols(f'x0:{len(G.nodes())}')\n",
    "    z_vars = symbols(f'Z0:{len(G.nodes())}')\n",
    "    \n",
    "    \n",
    "    # Construct a substitution relationship between x_i and Z_i\n",
    "    substitutions = {x: (1 - z)/2 for x, z in zip(x_vars, z_vars)}\n",
    "\n",
    "    # Constructing the objective function: maximize\n",
    "    fun = sum(x_vars)\n",
    "    obj_fun = len(G.nodes()) - fun \n",
    "    \n",
    "    # Constructing the penalty term of the constraint\n",
    "    penalty_terms = []\n",
    "    for i, x_i in enumerate(x_vars):\n",
    "        neighbors = list(G.neighbors(i))\n",
    "        neighbor_vars = [x_vars[j] for j in neighbors]\n",
    "        \n",
    "        # Compute the dominated case: 1-(1 - x_i) * ∏(1 - x_j)\n",
    "        term = (1 - x_i)\n",
    "        for x_j in neighbor_vars:\n",
    "            term *= (1 - x_j)\n",
    "            \n",
    "        penalty_terms.append(1 - term)\n",
    "        \n",
    "    penalty =  sum(penalty_terms)\n",
    "    \n",
    "    # Construct the objective function to be minimized\n",
    "    objective = -obj_fun - penalty\n",
    "\n",
    "    # Replace x_i with the expression of Z_i\n",
    "    hamiltonian = objective.subs(substitutions)\n",
    "\n",
    "    # Expand and simplify expressions\n",
    "    mds_hamiltonian = simplify(expand(hamiltonian))\n",
    "\n",
    "    return mds_hamiltonian\n",
    "\n",
    "\n",
    "# Constructing the problem Hamiltonian\n",
    "mds_hamiltonian = construct_mds_hamiltonian(G)   \n",
    "\n",
    "# Output\n",
    "print(\"The constructed Hamiltonian is：\")\n",
    "print(mds_hamiltonian)"
   ]
  },
  {
   "cell_type": "markdown",
   "metadata": {},
   "source": [
    "# Resolve mds_hamiltonian into a QubitOperator."
   ]
  },
  {
   "cell_type": "code",
   "execution_count": 6,
   "metadata": {},
   "outputs": [
    {
     "name": "stdout",
     "output_type": "stream",
     "text": [
      "   1/16 [Z0 Z1 Z2 Z3] +\n",
      "   5/16 [Z0 Z1 Z2] +\n",
      "   1/16 [Z0 Z1 Z3] +\n",
      "   5/16 [Z0 Z1] +\n",
      "   1/16 [Z0 Z2 Z3] +\n",
      "   5/16 [Z0 Z2] +\n",
      "   1/16 [Z0 Z3] +\n",
      "-0.1875 [Z0] +\n",
      "   1/16 [Z1 Z2 Z3] +\n",
      "   5/16 [Z1 Z2] +\n",
      "   1/16 [Z1 Z3] +\n",
      "-0.1875 [Z1] +\n",
      "   5/16 [Z2 Z3] +\n",
      "   1/16 [Z2] +\n",
      "-0.1875 [Z3] +\n",
      "-5.4375 []\n"
     ]
    }
   ],
   "source": [
    "import re\n",
    "import sympy\n",
    "from sympy import sympify, Rational\n",
    "\n",
    "\n",
    "def parse_hamiltonian(expr_str):\n",
    "    \"\"\"\n",
    "    Parsing Pauli string expressions as QubitOperators\n",
    "    \"\"\"\n",
    "    # Extract Pauli terms \n",
    "    pauli_tokens = set(re.findall(r'([XYZ]\\d+)', expr_str))\n",
    "    locals_dict = {tok: sympy.Symbol(tok) for tok in pauli_tokens}\n",
    "\n",
    "    # Parsing Expressions\n",
    "    expr = sympify(expr_str, locals=locals_dict)\n",
    "\n",
    "    QuOperator = QubitOperator()\n",
    "\n",
    "    for term in expr.as_ordered_terms():\n",
    "        coeff, rest = term.as_coeff_Mul()\n",
    "\n",
    "        # Extract Pauli terms\n",
    "        if isinstance(rest, sympy.Symbol):\n",
    "            syms = [str(rest)]\n",
    "        elif rest == 1:\n",
    "            syms = []\n",
    "        else:\n",
    "            syms = [str(f) for f in rest.args if isinstance(f, sympy.Symbol)]\n",
    "\n",
    "        syms_sorted = sorted(syms, key=lambda s: int(s[1:]))\n",
    "        pauli_str = ' '.join(syms_sorted)\n",
    "\n",
    "        # Use fractional form to express coefficients\n",
    "        coeff_frac = Rational(str(coeff))  \n",
    "        QuOperator += QubitOperator(pauli_str, coeff_frac)\n",
    "\n",
    "    return QuOperator\n",
    "\n",
    "\n",
    "H_C = parse_hamiltonian(str(mds_hamiltonian))\n",
    "print(H_C)"
   ]
  },
  {
   "cell_type": "markdown",
   "metadata": {},
   "source": [
    "# Build the quantum circuit of D_{i}(x)"
   ]
  },
  {
   "cell_type": "markdown",
   "metadata": {},
   "source": [
    "According to Guerrero's QAOA method, the MDS problem is solved by maximizing the cost fucntion C(x)=sum_{i=1}^{n-1} (D_{i}(x) + T_{i}(x)). Firtstly, we build the quantum circuit for D_{i}(x). "
   ]
  },
  {
   "cell_type": "code",
   "execution_count": 7,
   "metadata": {},
   "outputs": [
    {
     "data": {
      "image/svg+xml": [
       "<svg xmlns=\"http://www.w3.org/2000/svg\" width=\"1136.8\" height=\"320.0\" xmlns:xlink=\"http://www.w3.org/1999/xlink\"><rect x=\"0\" y=\"0.0\" width=\"1136.8\" height=\"320.0\" fill=\"#ffffff\" /><text x=\"20.0\" y=\"40.0\" font-size=\"16px\" dominant-baseline=\"middle\" text-anchor=\"start\" font-family=\"Arial\" font-weight=\"normal\" fill=\"#252b3a\" >q0: </text><text x=\"20.0\" y=\"100.0\" font-size=\"16px\" dominant-baseline=\"middle\" text-anchor=\"start\" font-family=\"Arial\" font-weight=\"normal\" fill=\"#252b3a\" >q1: </text><text x=\"20.0\" y=\"160.0\" font-size=\"16px\" dominant-baseline=\"middle\" text-anchor=\"start\" font-family=\"Arial\" font-weight=\"normal\" fill=\"#252b3a\" >q2: </text><text x=\"20.0\" y=\"220.0\" font-size=\"16px\" dominant-baseline=\"middle\" text-anchor=\"start\" font-family=\"Arial\" font-weight=\"normal\" fill=\"#252b3a\" >q3: </text><text x=\"20.0\" y=\"280.0\" font-size=\"16px\" dominant-baseline=\"middle\" text-anchor=\"start\" font-family=\"Arial\" font-weight=\"normal\" fill=\"#252b3a\" >q4: </text><line x1=\"48.8\" x2=\"1116.8\" y1=\"40.0\" y2=\"40.0\" stroke=\"#adb0b8\" stroke-width=\"1\" /><line x1=\"48.8\" x2=\"1116.8\" y1=\"100.0\" y2=\"100.0\" stroke=\"#adb0b8\" stroke-width=\"1\" /><line x1=\"48.8\" x2=\"1116.8\" y1=\"160.0\" y2=\"160.0\" stroke=\"#adb0b8\" stroke-width=\"1\" /><line x1=\"48.8\" x2=\"1116.8\" y1=\"220.0\" y2=\"220.0\" stroke=\"#adb0b8\" stroke-width=\"1\" /><line x1=\"48.8\" x2=\"1116.8\" y1=\"280.0\" y2=\"280.0\" stroke=\"#adb0b8\" stroke-width=\"1\" /><rect x=\"72.8\" y=\"20.0\" width=\"40.0\" height=\"40\" rx=\"4\" ry=\"4\" stroke=\"#ffffff\" stroke-width=\"0\" fill=\"#5e7ce0\" fill-opacity=\"1\" /><text x=\"92.8\" y=\"40.0\" font-size=\"20px\" dominant-baseline=\"middle\" text-anchor=\"middle\" font-family=\"Arial\" font-weight=\"normal\" fill=\"#ffffff\" >X </text><circle cx=\"172.8\" cy=\"40.0\" r=\"4\" fill=\"#fac209\" /><line x1=\"172.8\" x2=\"172.8\" y1=\"40.0\" y2=\"280.0\" stroke=\"#fac209\" stroke-width=\"3\" /><rect x=\"132.8\" y=\"260.0\" width=\"80.0\" height=\"40\" rx=\"4\" ry=\"4\" stroke=\"#ffffff\" stroke-width=\"0\" fill=\"#fac209\" fill-opacity=\"1\" /><text x=\"172.8\" y=\"276.0\" font-size=\"20px\" dominant-baseline=\"middle\" text-anchor=\"middle\" font-family=\"Arial\" font-weight=\"normal\" fill=\"#ffffff\" >RZ </text><text x=\"172.8\" y=\"292.0\" font-size=\"14.0px\" dominant-baseline=\"middle\" text-anchor=\"middle\" font-family=\"Arial\" font-weight=\"normal\" fill=\"#ffffff\" >2*gamma </text><rect x=\"232.8\" y=\"20.0\" width=\"40.0\" height=\"40\" rx=\"4\" ry=\"4\" stroke=\"#ffffff\" stroke-width=\"0\" fill=\"#5e7ce0\" fill-opacity=\"1\" /><text x=\"252.8\" y=\"40.0\" font-size=\"20px\" dominant-baseline=\"middle\" text-anchor=\"middle\" font-family=\"Arial\" font-weight=\"normal\" fill=\"#ffffff\" >X </text><rect x=\"292.8\" y=\"20.0\" width=\"20\" height=\"280\" fill=\"gray\" fill-opacity=\"0.8\" /><rect x=\"332.8\" y=\"80.0\" width=\"40.0\" height=\"40\" rx=\"4\" ry=\"4\" stroke=\"#ffffff\" stroke-width=\"0\" fill=\"#5e7ce0\" fill-opacity=\"1\" /><text x=\"352.8\" y=\"100.0\" font-size=\"20px\" dominant-baseline=\"middle\" text-anchor=\"middle\" font-family=\"Arial\" font-weight=\"normal\" fill=\"#ffffff\" >X </text><circle cx=\"432.8\" cy=\"100.0\" r=\"4\" fill=\"#fac209\" /><line x1=\"432.8\" x2=\"432.8\" y1=\"100.0\" y2=\"280.0\" stroke=\"#fac209\" stroke-width=\"3\" /><rect x=\"392.8\" y=\"260.0\" width=\"80.0\" height=\"40\" rx=\"4\" ry=\"4\" stroke=\"#ffffff\" stroke-width=\"0\" fill=\"#fac209\" fill-opacity=\"1\" /><text x=\"432.8\" y=\"276.0\" font-size=\"20px\" dominant-baseline=\"middle\" text-anchor=\"middle\" font-family=\"Arial\" font-weight=\"normal\" fill=\"#ffffff\" >RZ </text><text x=\"432.8\" y=\"292.0\" font-size=\"14.0px\" dominant-baseline=\"middle\" text-anchor=\"middle\" font-family=\"Arial\" font-weight=\"normal\" fill=\"#ffffff\" >2*gamma </text><rect x=\"492.8\" y=\"80.0\" width=\"40.0\" height=\"40\" rx=\"4\" ry=\"4\" stroke=\"#ffffff\" stroke-width=\"0\" fill=\"#5e7ce0\" fill-opacity=\"1\" /><text x=\"512.8\" y=\"100.0\" font-size=\"20px\" dominant-baseline=\"middle\" text-anchor=\"middle\" font-family=\"Arial\" font-weight=\"normal\" fill=\"#ffffff\" >X </text><rect x=\"552.8\" y=\"20.0\" width=\"20\" height=\"280\" fill=\"gray\" fill-opacity=\"0.8\" /><rect x=\"592.8\" y=\"140.0\" width=\"40.0\" height=\"40\" rx=\"4\" ry=\"4\" stroke=\"#ffffff\" stroke-width=\"0\" fill=\"#5e7ce0\" fill-opacity=\"1\" /><text x=\"612.8\" y=\"160.0\" font-size=\"20px\" dominant-baseline=\"middle\" text-anchor=\"middle\" font-family=\"Arial\" font-weight=\"normal\" fill=\"#ffffff\" >X </text><circle cx=\"692.8\" cy=\"160.0\" r=\"4\" fill=\"#fac209\" /><line x1=\"692.8\" x2=\"692.8\" y1=\"160.0\" y2=\"280.0\" stroke=\"#fac209\" stroke-width=\"3\" /><rect x=\"652.8\" y=\"260.0\" width=\"80.0\" height=\"40\" rx=\"4\" ry=\"4\" stroke=\"#ffffff\" stroke-width=\"0\" fill=\"#fac209\" fill-opacity=\"1\" /><text x=\"692.8\" y=\"276.0\" font-size=\"20px\" dominant-baseline=\"middle\" text-anchor=\"middle\" font-family=\"Arial\" font-weight=\"normal\" fill=\"#ffffff\" >RZ </text><text x=\"692.8\" y=\"292.0\" font-size=\"14.0px\" dominant-baseline=\"middle\" text-anchor=\"middle\" font-family=\"Arial\" font-weight=\"normal\" fill=\"#ffffff\" >2*gamma </text><rect x=\"752.8\" y=\"140.0\" width=\"40.0\" height=\"40\" rx=\"4\" ry=\"4\" stroke=\"#ffffff\" stroke-width=\"0\" fill=\"#5e7ce0\" fill-opacity=\"1\" /><text x=\"772.8\" y=\"160.0\" font-size=\"20px\" dominant-baseline=\"middle\" text-anchor=\"middle\" font-family=\"Arial\" font-weight=\"normal\" fill=\"#ffffff\" >X </text><rect x=\"812.8\" y=\"20.0\" width=\"20\" height=\"280\" fill=\"gray\" fill-opacity=\"0.8\" /><rect x=\"852.8\" y=\"200.0\" width=\"40.0\" height=\"40\" rx=\"4\" ry=\"4\" stroke=\"#ffffff\" stroke-width=\"0\" fill=\"#5e7ce0\" fill-opacity=\"1\" /><text x=\"872.8\" y=\"220.0\" font-size=\"20px\" dominant-baseline=\"middle\" text-anchor=\"middle\" font-family=\"Arial\" font-weight=\"normal\" fill=\"#ffffff\" >X </text><circle cx=\"952.8\" cy=\"220.0\" r=\"4\" fill=\"#fac209\" /><line x1=\"952.8\" x2=\"952.8\" y1=\"220.0\" y2=\"280.0\" stroke=\"#fac209\" stroke-width=\"3\" /><rect x=\"912.8\" y=\"260.0\" width=\"80.0\" height=\"40\" rx=\"4\" ry=\"4\" stroke=\"#ffffff\" stroke-width=\"0\" fill=\"#fac209\" fill-opacity=\"1\" /><text x=\"952.8\" y=\"276.0\" font-size=\"20px\" dominant-baseline=\"middle\" text-anchor=\"middle\" font-family=\"Arial\" font-weight=\"normal\" fill=\"#ffffff\" >RZ </text><text x=\"952.8\" y=\"292.0\" font-size=\"14.0px\" dominant-baseline=\"middle\" text-anchor=\"middle\" font-family=\"Arial\" font-weight=\"normal\" fill=\"#ffffff\" >2*gamma </text><rect x=\"1012.8\" y=\"200.0\" width=\"40.0\" height=\"40\" rx=\"4\" ry=\"4\" stroke=\"#ffffff\" stroke-width=\"0\" fill=\"#5e7ce0\" fill-opacity=\"1\" /><text x=\"1032.8\" y=\"220.0\" font-size=\"20px\" dominant-baseline=\"middle\" text-anchor=\"middle\" font-family=\"Arial\" font-weight=\"normal\" fill=\"#ffffff\" >X </text><rect x=\"1072.8\" y=\"20.0\" width=\"20\" height=\"280\" fill=\"gray\" fill-opacity=\"0.8\" /></svg>"
      ],
      "text/plain": [
       "<mindquantum.io.display.circuit_svg_drawer.SVGCircuit at 0x78f8d5d65d00>"
      ]
     },
     "execution_count": 7,
     "metadata": {},
     "output_type": "execute_result"
    }
   ],
   "source": [
    "def build_D_part(para):\n",
    "\n",
    "    qc_d = Circuit()\n",
    "\n",
    "    for i in range(0, len(G.nodes)):\n",
    "        qc_d += X.on(i)\n",
    "        qc_d += RZ({para:2}).on(len(G.nodes), i)\n",
    "        qc_d += X.on(i)\n",
    "        qc_d.barrier()\n",
    "    \n",
    "    return qc_d\n",
    "\n",
    "# Showing the constructed quantum circuit part\n",
    "Di_circuit = build_D_part('gamma')\n",
    "Di_circuit.svg()"
   ]
  },
  {
   "cell_type": "markdown",
   "metadata": {},
   "source": [
    "# Build the quantum circuit of T_{i}(x)"
   ]
  },
  {
   "cell_type": "code",
   "execution_count": 8,
   "metadata": {},
   "outputs": [
    {
     "data": {
      "image/svg+xml": [
       "<svg xmlns=\"http://www.w3.org/2000/svg\" width=\"1776.8\" height=\"320.0\" xmlns:xlink=\"http://www.w3.org/1999/xlink\"><rect x=\"0\" y=\"0.0\" width=\"1776.8\" height=\"320.0\" fill=\"#ffffff\" /><text x=\"20.0\" y=\"40.0\" font-size=\"16px\" dominant-baseline=\"middle\" text-anchor=\"start\" font-family=\"Arial\" font-weight=\"normal\" fill=\"#252b3a\" >q0: </text><text x=\"20.0\" y=\"100.0\" font-size=\"16px\" dominant-baseline=\"middle\" text-anchor=\"start\" font-family=\"Arial\" font-weight=\"normal\" fill=\"#252b3a\" >q1: </text><text x=\"20.0\" y=\"160.0\" font-size=\"16px\" dominant-baseline=\"middle\" text-anchor=\"start\" font-family=\"Arial\" font-weight=\"normal\" fill=\"#252b3a\" >q2: </text><text x=\"20.0\" y=\"220.0\" font-size=\"16px\" dominant-baseline=\"middle\" text-anchor=\"start\" font-family=\"Arial\" font-weight=\"normal\" fill=\"#252b3a\" >q3: </text><text x=\"20.0\" y=\"280.0\" font-size=\"16px\" dominant-baseline=\"middle\" text-anchor=\"start\" font-family=\"Arial\" font-weight=\"normal\" fill=\"#252b3a\" >q4: </text><line x1=\"48.8\" x2=\"1756.8\" y1=\"40.0\" y2=\"40.0\" stroke=\"#adb0b8\" stroke-width=\"1\" /><line x1=\"48.8\" x2=\"1756.8\" y1=\"100.0\" y2=\"100.0\" stroke=\"#adb0b8\" stroke-width=\"1\" /><line x1=\"48.8\" x2=\"1756.8\" y1=\"160.0\" y2=\"160.0\" stroke=\"#adb0b8\" stroke-width=\"1\" /><line x1=\"48.8\" x2=\"1756.8\" y1=\"220.0\" y2=\"220.0\" stroke=\"#adb0b8\" stroke-width=\"1\" /><line x1=\"48.8\" x2=\"1756.8\" y1=\"280.0\" y2=\"280.0\" stroke=\"#adb0b8\" stroke-width=\"1\" /><rect x=\"72.8\" y=\"20.0\" width=\"40.0\" height=\"40\" rx=\"4\" ry=\"4\" stroke=\"#ffffff\" stroke-width=\"0\" fill=\"#5e7ce0\" fill-opacity=\"1\" /><text x=\"92.8\" y=\"40.0\" font-size=\"20px\" dominant-baseline=\"middle\" text-anchor=\"middle\" font-family=\"Arial\" font-weight=\"normal\" fill=\"#ffffff\" >X </text><rect x=\"72.8\" y=\"80.0\" width=\"40.0\" height=\"40\" rx=\"4\" ry=\"4\" stroke=\"#ffffff\" stroke-width=\"0\" fill=\"#5e7ce0\" fill-opacity=\"1\" /><text x=\"92.8\" y=\"100.0\" font-size=\"20px\" dominant-baseline=\"middle\" text-anchor=\"middle\" font-family=\"Arial\" font-weight=\"normal\" fill=\"#ffffff\" >X </text><rect x=\"72.8\" y=\"140.0\" width=\"40.0\" height=\"40\" rx=\"4\" ry=\"4\" stroke=\"#ffffff\" stroke-width=\"0\" fill=\"#5e7ce0\" fill-opacity=\"1\" /><text x=\"92.8\" y=\"160.0\" font-size=\"20px\" dominant-baseline=\"middle\" text-anchor=\"middle\" font-family=\"Arial\" font-weight=\"normal\" fill=\"#ffffff\" >X </text><rect x=\"72.8\" y=\"260.0\" width=\"80.0\" height=\"40\" rx=\"4\" ry=\"4\" stroke=\"#ffffff\" stroke-width=\"0\" fill=\"#fac209\" fill-opacity=\"1\" /><text x=\"112.8\" y=\"276.0\" font-size=\"20px\" dominant-baseline=\"middle\" text-anchor=\"middle\" font-family=\"Arial\" font-weight=\"normal\" fill=\"#ffffff\" >RZ </text><text x=\"112.8\" y=\"292.0\" font-size=\"14.0px\" dominant-baseline=\"middle\" text-anchor=\"middle\" font-family=\"Arial\" font-weight=\"normal\" fill=\"#ffffff\" >gamma </text><circle cx=\"192.8\" cy=\"40.0\" r=\"4\" fill=\"#5e7ce0\" /><circle cx=\"192.8\" cy=\"100.0\" r=\"4\" fill=\"#5e7ce0\" /><circle cx=\"192.8\" cy=\"160.0\" r=\"4\" fill=\"#5e7ce0\" /><line x1=\"192.8\" x2=\"192.8\" y1=\"40.0\" y2=\"280.0\" stroke=\"#5e7ce0\" stroke-width=\"3\" /><rect x=\"172.8\" y=\"260.0\" width=\"40.0\" height=\"40\" rx=\"4\" ry=\"4\" stroke=\"#ffffff\" stroke-width=\"0\" fill=\"#5e7ce0\" fill-opacity=\"1\" /><text x=\"192.8\" y=\"280.0\" font-size=\"20px\" dominant-baseline=\"middle\" text-anchor=\"middle\" font-family=\"Arial\" font-weight=\"normal\" fill=\"#ffffff\" >X </text><rect x=\"232.8\" y=\"260.0\" width=\"80.0\" height=\"40\" rx=\"4\" ry=\"4\" stroke=\"#ffffff\" stroke-width=\"0\" fill=\"#fac209\" fill-opacity=\"1\" /><text x=\"272.8\" y=\"276.0\" font-size=\"20px\" dominant-baseline=\"middle\" text-anchor=\"middle\" font-family=\"Arial\" font-weight=\"normal\" fill=\"#ffffff\" >RZ </text><text x=\"272.8\" y=\"292.0\" font-size=\"14.0px\" dominant-baseline=\"middle\" text-anchor=\"middle\" font-family=\"Arial\" font-weight=\"normal\" fill=\"#ffffff\" >gamma </text><circle cx=\"352.8\" cy=\"40.0\" r=\"4\" fill=\"#5e7ce0\" /><circle cx=\"352.8\" cy=\"100.0\" r=\"4\" fill=\"#5e7ce0\" /><circle cx=\"352.8\" cy=\"160.0\" r=\"4\" fill=\"#5e7ce0\" /><line x1=\"352.8\" x2=\"352.8\" y1=\"40.0\" y2=\"280.0\" stroke=\"#5e7ce0\" stroke-width=\"3\" /><rect x=\"332.8\" y=\"260.0\" width=\"40.0\" height=\"40\" rx=\"4\" ry=\"4\" stroke=\"#ffffff\" stroke-width=\"0\" fill=\"#5e7ce0\" fill-opacity=\"1\" /><text x=\"352.8\" y=\"280.0\" font-size=\"20px\" dominant-baseline=\"middle\" text-anchor=\"middle\" font-family=\"Arial\" font-weight=\"normal\" fill=\"#ffffff\" >X </text><rect x=\"392.8\" y=\"20.0\" width=\"40.0\" height=\"40\" rx=\"4\" ry=\"4\" stroke=\"#ffffff\" stroke-width=\"0\" fill=\"#5e7ce0\" fill-opacity=\"1\" /><text x=\"412.8\" y=\"40.0\" font-size=\"20px\" dominant-baseline=\"middle\" text-anchor=\"middle\" font-family=\"Arial\" font-weight=\"normal\" fill=\"#ffffff\" >X </text><rect x=\"392.8\" y=\"80.0\" width=\"40.0\" height=\"40\" rx=\"4\" ry=\"4\" stroke=\"#ffffff\" stroke-width=\"0\" fill=\"#5e7ce0\" fill-opacity=\"1\" /><text x=\"412.8\" y=\"100.0\" font-size=\"20px\" dominant-baseline=\"middle\" text-anchor=\"middle\" font-family=\"Arial\" font-weight=\"normal\" fill=\"#ffffff\" >X </text><rect x=\"392.8\" y=\"140.0\" width=\"40.0\" height=\"40\" rx=\"4\" ry=\"4\" stroke=\"#ffffff\" stroke-width=\"0\" fill=\"#5e7ce0\" fill-opacity=\"1\" /><text x=\"412.8\" y=\"160.0\" font-size=\"20px\" dominant-baseline=\"middle\" text-anchor=\"middle\" font-family=\"Arial\" font-weight=\"normal\" fill=\"#ffffff\" >X </text><rect x=\"452.8\" y=\"20.0\" width=\"20\" height=\"280\" fill=\"gray\" fill-opacity=\"0.8\" /><rect x=\"492.8\" y=\"80.0\" width=\"40.0\" height=\"40\" rx=\"4\" ry=\"4\" stroke=\"#ffffff\" stroke-width=\"0\" fill=\"#5e7ce0\" fill-opacity=\"1\" /><text x=\"512.8\" y=\"100.0\" font-size=\"20px\" dominant-baseline=\"middle\" text-anchor=\"middle\" font-family=\"Arial\" font-weight=\"normal\" fill=\"#ffffff\" >X </text><rect x=\"492.8\" y=\"20.0\" width=\"40.0\" height=\"40\" rx=\"4\" ry=\"4\" stroke=\"#ffffff\" stroke-width=\"0\" fill=\"#5e7ce0\" fill-opacity=\"1\" /><text x=\"512.8\" y=\"40.0\" font-size=\"20px\" dominant-baseline=\"middle\" text-anchor=\"middle\" font-family=\"Arial\" font-weight=\"normal\" fill=\"#ffffff\" >X </text><rect x=\"492.8\" y=\"140.0\" width=\"40.0\" height=\"40\" rx=\"4\" ry=\"4\" stroke=\"#ffffff\" stroke-width=\"0\" fill=\"#5e7ce0\" fill-opacity=\"1\" /><text x=\"512.8\" y=\"160.0\" font-size=\"20px\" dominant-baseline=\"middle\" text-anchor=\"middle\" font-family=\"Arial\" font-weight=\"normal\" fill=\"#ffffff\" >X </text><rect x=\"492.8\" y=\"260.0\" width=\"80.0\" height=\"40\" rx=\"4\" ry=\"4\" stroke=\"#ffffff\" stroke-width=\"0\" fill=\"#fac209\" fill-opacity=\"1\" /><text x=\"532.8\" y=\"276.0\" font-size=\"20px\" dominant-baseline=\"middle\" text-anchor=\"middle\" font-family=\"Arial\" font-weight=\"normal\" fill=\"#ffffff\" >RZ </text><text x=\"532.8\" y=\"292.0\" font-size=\"14.0px\" dominant-baseline=\"middle\" text-anchor=\"middle\" font-family=\"Arial\" font-weight=\"normal\" fill=\"#ffffff\" >gamma </text><circle cx=\"612.8\" cy=\"100.0\" r=\"4\" fill=\"#5e7ce0\" /><circle cx=\"612.8\" cy=\"40.0\" r=\"4\" fill=\"#5e7ce0\" /><circle cx=\"612.8\" cy=\"160.0\" r=\"4\" fill=\"#5e7ce0\" /><line x1=\"612.8\" x2=\"612.8\" y1=\"40.0\" y2=\"280.0\" stroke=\"#5e7ce0\" stroke-width=\"3\" /><rect x=\"592.8\" y=\"260.0\" width=\"40.0\" height=\"40\" rx=\"4\" ry=\"4\" stroke=\"#ffffff\" stroke-width=\"0\" fill=\"#5e7ce0\" fill-opacity=\"1\" /><text x=\"612.8\" y=\"280.0\" font-size=\"20px\" dominant-baseline=\"middle\" text-anchor=\"middle\" font-family=\"Arial\" font-weight=\"normal\" fill=\"#ffffff\" >X </text><rect x=\"652.8\" y=\"260.0\" width=\"80.0\" height=\"40\" rx=\"4\" ry=\"4\" stroke=\"#ffffff\" stroke-width=\"0\" fill=\"#fac209\" fill-opacity=\"1\" /><text x=\"692.8\" y=\"276.0\" font-size=\"20px\" dominant-baseline=\"middle\" text-anchor=\"middle\" font-family=\"Arial\" font-weight=\"normal\" fill=\"#ffffff\" >RZ </text><text x=\"692.8\" y=\"292.0\" font-size=\"14.0px\" dominant-baseline=\"middle\" text-anchor=\"middle\" font-family=\"Arial\" font-weight=\"normal\" fill=\"#ffffff\" >gamma </text><circle cx=\"772.8\" cy=\"100.0\" r=\"4\" fill=\"#5e7ce0\" /><circle cx=\"772.8\" cy=\"40.0\" r=\"4\" fill=\"#5e7ce0\" /><circle cx=\"772.8\" cy=\"160.0\" r=\"4\" fill=\"#5e7ce0\" /><line x1=\"772.8\" x2=\"772.8\" y1=\"40.0\" y2=\"280.0\" stroke=\"#5e7ce0\" stroke-width=\"3\" /><rect x=\"752.8\" y=\"260.0\" width=\"40.0\" height=\"40\" rx=\"4\" ry=\"4\" stroke=\"#ffffff\" stroke-width=\"0\" fill=\"#5e7ce0\" fill-opacity=\"1\" /><text x=\"772.8\" y=\"280.0\" font-size=\"20px\" dominant-baseline=\"middle\" text-anchor=\"middle\" font-family=\"Arial\" font-weight=\"normal\" fill=\"#ffffff\" >X </text><rect x=\"812.8\" y=\"80.0\" width=\"40.0\" height=\"40\" rx=\"4\" ry=\"4\" stroke=\"#ffffff\" stroke-width=\"0\" fill=\"#5e7ce0\" fill-opacity=\"1\" /><text x=\"832.8\" y=\"100.0\" font-size=\"20px\" dominant-baseline=\"middle\" text-anchor=\"middle\" font-family=\"Arial\" font-weight=\"normal\" fill=\"#ffffff\" >X </text><rect x=\"812.8\" y=\"20.0\" width=\"40.0\" height=\"40\" rx=\"4\" ry=\"4\" stroke=\"#ffffff\" stroke-width=\"0\" fill=\"#5e7ce0\" fill-opacity=\"1\" /><text x=\"832.8\" y=\"40.0\" font-size=\"20px\" dominant-baseline=\"middle\" text-anchor=\"middle\" font-family=\"Arial\" font-weight=\"normal\" fill=\"#ffffff\" >X </text><rect x=\"812.8\" y=\"140.0\" width=\"40.0\" height=\"40\" rx=\"4\" ry=\"4\" stroke=\"#ffffff\" stroke-width=\"0\" fill=\"#5e7ce0\" fill-opacity=\"1\" /><text x=\"832.8\" y=\"160.0\" font-size=\"20px\" dominant-baseline=\"middle\" text-anchor=\"middle\" font-family=\"Arial\" font-weight=\"normal\" fill=\"#ffffff\" >X </text><rect x=\"872.8\" y=\"20.0\" width=\"20\" height=\"280\" fill=\"gray\" fill-opacity=\"0.8\" /><rect x=\"912.8\" y=\"140.0\" width=\"40.0\" height=\"40\" rx=\"4\" ry=\"4\" stroke=\"#ffffff\" stroke-width=\"0\" fill=\"#5e7ce0\" fill-opacity=\"1\" /><text x=\"932.8\" y=\"160.0\" font-size=\"20px\" dominant-baseline=\"middle\" text-anchor=\"middle\" font-family=\"Arial\" font-weight=\"normal\" fill=\"#ffffff\" >X </text><rect x=\"912.8\" y=\"20.0\" width=\"40.0\" height=\"40\" rx=\"4\" ry=\"4\" stroke=\"#ffffff\" stroke-width=\"0\" fill=\"#5e7ce0\" fill-opacity=\"1\" /><text x=\"932.8\" y=\"40.0\" font-size=\"20px\" dominant-baseline=\"middle\" text-anchor=\"middle\" font-family=\"Arial\" font-weight=\"normal\" fill=\"#ffffff\" >X </text><rect x=\"912.8\" y=\"80.0\" width=\"40.0\" height=\"40\" rx=\"4\" ry=\"4\" stroke=\"#ffffff\" stroke-width=\"0\" fill=\"#5e7ce0\" fill-opacity=\"1\" /><text x=\"932.8\" y=\"100.0\" font-size=\"20px\" dominant-baseline=\"middle\" text-anchor=\"middle\" font-family=\"Arial\" font-weight=\"normal\" fill=\"#ffffff\" >X </text><rect x=\"912.8\" y=\"200.0\" width=\"40.0\" height=\"40\" rx=\"4\" ry=\"4\" stroke=\"#ffffff\" stroke-width=\"0\" fill=\"#5e7ce0\" fill-opacity=\"1\" /><text x=\"932.8\" y=\"220.0\" font-size=\"20px\" dominant-baseline=\"middle\" text-anchor=\"middle\" font-family=\"Arial\" font-weight=\"normal\" fill=\"#ffffff\" >X </text><rect x=\"912.8\" y=\"260.0\" width=\"80.0\" height=\"40\" rx=\"4\" ry=\"4\" stroke=\"#ffffff\" stroke-width=\"0\" fill=\"#fac209\" fill-opacity=\"1\" /><text x=\"952.8\" y=\"276.0\" font-size=\"20px\" dominant-baseline=\"middle\" text-anchor=\"middle\" font-family=\"Arial\" font-weight=\"normal\" fill=\"#ffffff\" >RZ </text><text x=\"952.8\" y=\"292.0\" font-size=\"14.0px\" dominant-baseline=\"middle\" text-anchor=\"middle\" font-family=\"Arial\" font-weight=\"normal\" fill=\"#ffffff\" >gamma </text><circle cx=\"1032.8\" cy=\"160.0\" r=\"4\" fill=\"#5e7ce0\" /><circle cx=\"1032.8\" cy=\"40.0\" r=\"4\" fill=\"#5e7ce0\" /><circle cx=\"1032.8\" cy=\"100.0\" r=\"4\" fill=\"#5e7ce0\" /><circle cx=\"1032.8\" cy=\"220.0\" r=\"4\" fill=\"#5e7ce0\" /><line x1=\"1032.8\" x2=\"1032.8\" y1=\"40.0\" y2=\"280.0\" stroke=\"#5e7ce0\" stroke-width=\"3\" /><rect x=\"1012.8\" y=\"260.0\" width=\"40.0\" height=\"40\" rx=\"4\" ry=\"4\" stroke=\"#ffffff\" stroke-width=\"0\" fill=\"#5e7ce0\" fill-opacity=\"1\" /><text x=\"1032.8\" y=\"280.0\" font-size=\"20px\" dominant-baseline=\"middle\" text-anchor=\"middle\" font-family=\"Arial\" font-weight=\"normal\" fill=\"#ffffff\" >X </text><rect x=\"1072.8\" y=\"260.0\" width=\"80.0\" height=\"40\" rx=\"4\" ry=\"4\" stroke=\"#ffffff\" stroke-width=\"0\" fill=\"#fac209\" fill-opacity=\"1\" /><text x=\"1112.8\" y=\"276.0\" font-size=\"20px\" dominant-baseline=\"middle\" text-anchor=\"middle\" font-family=\"Arial\" font-weight=\"normal\" fill=\"#ffffff\" >RZ </text><text x=\"1112.8\" y=\"292.0\" font-size=\"14.0px\" dominant-baseline=\"middle\" text-anchor=\"middle\" font-family=\"Arial\" font-weight=\"normal\" fill=\"#ffffff\" >gamma </text><circle cx=\"1192.8\" cy=\"160.0\" r=\"4\" fill=\"#5e7ce0\" /><circle cx=\"1192.8\" cy=\"40.0\" r=\"4\" fill=\"#5e7ce0\" /><circle cx=\"1192.8\" cy=\"100.0\" r=\"4\" fill=\"#5e7ce0\" /><circle cx=\"1192.8\" cy=\"220.0\" r=\"4\" fill=\"#5e7ce0\" /><line x1=\"1192.8\" x2=\"1192.8\" y1=\"40.0\" y2=\"280.0\" stroke=\"#5e7ce0\" stroke-width=\"3\" /><rect x=\"1172.8\" y=\"260.0\" width=\"40.0\" height=\"40\" rx=\"4\" ry=\"4\" stroke=\"#ffffff\" stroke-width=\"0\" fill=\"#5e7ce0\" fill-opacity=\"1\" /><text x=\"1192.8\" y=\"280.0\" font-size=\"20px\" dominant-baseline=\"middle\" text-anchor=\"middle\" font-family=\"Arial\" font-weight=\"normal\" fill=\"#ffffff\" >X </text><rect x=\"1232.8\" y=\"140.0\" width=\"40.0\" height=\"40\" rx=\"4\" ry=\"4\" stroke=\"#ffffff\" stroke-width=\"0\" fill=\"#5e7ce0\" fill-opacity=\"1\" /><text x=\"1252.8\" y=\"160.0\" font-size=\"20px\" dominant-baseline=\"middle\" text-anchor=\"middle\" font-family=\"Arial\" font-weight=\"normal\" fill=\"#ffffff\" >X </text><rect x=\"1232.8\" y=\"20.0\" width=\"40.0\" height=\"40\" rx=\"4\" ry=\"4\" stroke=\"#ffffff\" stroke-width=\"0\" fill=\"#5e7ce0\" fill-opacity=\"1\" /><text x=\"1252.8\" y=\"40.0\" font-size=\"20px\" dominant-baseline=\"middle\" text-anchor=\"middle\" font-family=\"Arial\" font-weight=\"normal\" fill=\"#ffffff\" >X </text><rect x=\"1232.8\" y=\"80.0\" width=\"40.0\" height=\"40\" rx=\"4\" ry=\"4\" stroke=\"#ffffff\" stroke-width=\"0\" fill=\"#5e7ce0\" fill-opacity=\"1\" /><text x=\"1252.8\" y=\"100.0\" font-size=\"20px\" dominant-baseline=\"middle\" text-anchor=\"middle\" font-family=\"Arial\" font-weight=\"normal\" fill=\"#ffffff\" >X </text><rect x=\"1232.8\" y=\"200.0\" width=\"40.0\" height=\"40\" rx=\"4\" ry=\"4\" stroke=\"#ffffff\" stroke-width=\"0\" fill=\"#5e7ce0\" fill-opacity=\"1\" /><text x=\"1252.8\" y=\"220.0\" font-size=\"20px\" dominant-baseline=\"middle\" text-anchor=\"middle\" font-family=\"Arial\" font-weight=\"normal\" fill=\"#ffffff\" >X </text><rect x=\"1292.8\" y=\"20.0\" width=\"20\" height=\"280\" fill=\"gray\" fill-opacity=\"0.8\" /><rect x=\"1332.8\" y=\"200.0\" width=\"40.0\" height=\"40\" rx=\"4\" ry=\"4\" stroke=\"#ffffff\" stroke-width=\"0\" fill=\"#5e7ce0\" fill-opacity=\"1\" /><text x=\"1352.8\" y=\"220.0\" font-size=\"20px\" dominant-baseline=\"middle\" text-anchor=\"middle\" font-family=\"Arial\" font-weight=\"normal\" fill=\"#ffffff\" >X </text><rect x=\"1332.8\" y=\"140.0\" width=\"40.0\" height=\"40\" rx=\"4\" ry=\"4\" stroke=\"#ffffff\" stroke-width=\"0\" fill=\"#5e7ce0\" fill-opacity=\"1\" /><text x=\"1352.8\" y=\"160.0\" font-size=\"20px\" dominant-baseline=\"middle\" text-anchor=\"middle\" font-family=\"Arial\" font-weight=\"normal\" fill=\"#ffffff\" >X </text><rect x=\"1332.8\" y=\"260.0\" width=\"80.0\" height=\"40\" rx=\"4\" ry=\"4\" stroke=\"#ffffff\" stroke-width=\"0\" fill=\"#fac209\" fill-opacity=\"1\" /><text x=\"1372.8\" y=\"276.0\" font-size=\"20px\" dominant-baseline=\"middle\" text-anchor=\"middle\" font-family=\"Arial\" font-weight=\"normal\" fill=\"#ffffff\" >RZ </text><text x=\"1372.8\" y=\"292.0\" font-size=\"14.0px\" dominant-baseline=\"middle\" text-anchor=\"middle\" font-family=\"Arial\" font-weight=\"normal\" fill=\"#ffffff\" >gamma </text><circle cx=\"1452.8\" cy=\"220.0\" r=\"4\" fill=\"#5e7ce0\" /><circle cx=\"1452.8\" cy=\"160.0\" r=\"4\" fill=\"#5e7ce0\" /><line x1=\"1452.8\" x2=\"1452.8\" y1=\"160.0\" y2=\"280.0\" stroke=\"#5e7ce0\" stroke-width=\"3\" /><rect x=\"1432.8\" y=\"260.0\" width=\"40.0\" height=\"40\" rx=\"4\" ry=\"4\" stroke=\"#ffffff\" stroke-width=\"0\" fill=\"#5e7ce0\" fill-opacity=\"1\" /><text x=\"1452.8\" y=\"280.0\" font-size=\"20px\" dominant-baseline=\"middle\" text-anchor=\"middle\" font-family=\"Arial\" font-weight=\"normal\" fill=\"#ffffff\" >X </text><rect x=\"1492.8\" y=\"260.0\" width=\"80.0\" height=\"40\" rx=\"4\" ry=\"4\" stroke=\"#ffffff\" stroke-width=\"0\" fill=\"#fac209\" fill-opacity=\"1\" /><text x=\"1532.8\" y=\"276.0\" font-size=\"20px\" dominant-baseline=\"middle\" text-anchor=\"middle\" font-family=\"Arial\" font-weight=\"normal\" fill=\"#ffffff\" >RZ </text><text x=\"1532.8\" y=\"292.0\" font-size=\"14.0px\" dominant-baseline=\"middle\" text-anchor=\"middle\" font-family=\"Arial\" font-weight=\"normal\" fill=\"#ffffff\" >gamma </text><circle cx=\"1612.8\" cy=\"220.0\" r=\"4\" fill=\"#5e7ce0\" /><circle cx=\"1612.8\" cy=\"160.0\" r=\"4\" fill=\"#5e7ce0\" /><line x1=\"1612.8\" x2=\"1612.8\" y1=\"160.0\" y2=\"280.0\" stroke=\"#5e7ce0\" stroke-width=\"3\" /><rect x=\"1592.8\" y=\"260.0\" width=\"40.0\" height=\"40\" rx=\"4\" ry=\"4\" stroke=\"#ffffff\" stroke-width=\"0\" fill=\"#5e7ce0\" fill-opacity=\"1\" /><text x=\"1612.8\" y=\"280.0\" font-size=\"20px\" dominant-baseline=\"middle\" text-anchor=\"middle\" font-family=\"Arial\" font-weight=\"normal\" fill=\"#ffffff\" >X </text><rect x=\"1652.8\" y=\"200.0\" width=\"40.0\" height=\"40\" rx=\"4\" ry=\"4\" stroke=\"#ffffff\" stroke-width=\"0\" fill=\"#5e7ce0\" fill-opacity=\"1\" /><text x=\"1672.8\" y=\"220.0\" font-size=\"20px\" dominant-baseline=\"middle\" text-anchor=\"middle\" font-family=\"Arial\" font-weight=\"normal\" fill=\"#ffffff\" >X </text><rect x=\"1652.8\" y=\"140.0\" width=\"40.0\" height=\"40\" rx=\"4\" ry=\"4\" stroke=\"#ffffff\" stroke-width=\"0\" fill=\"#5e7ce0\" fill-opacity=\"1\" /><text x=\"1672.8\" y=\"160.0\" font-size=\"20px\" dominant-baseline=\"middle\" text-anchor=\"middle\" font-family=\"Arial\" font-weight=\"normal\" fill=\"#ffffff\" >X </text><rect x=\"1712.8\" y=\"20.0\" width=\"20\" height=\"280\" fill=\"gray\" fill-opacity=\"0.8\" /></svg>"
      ],
      "text/plain": [
       "<mindquantum.io.display.circuit_svg_drawer.SVGCircuit at 0x78f8d51f1dc0>"
      ]
     },
     "execution_count": 8,
     "metadata": {},
     "output_type": "execute_result"
    }
   ],
   "source": [
    "# The main components of quantum circuits with predefined T_{i}\n",
    "\n",
    "def create_cor(ctrl_qubits, target_qubits, para):\n",
    "    \n",
    "    circuit = Circuit()\n",
    "    \n",
    "    for i in ctrl_qubits:\n",
    "        circuit += X.on(i)\n",
    "    \n",
    "    circuit += RZ({para:1}).on(target_qubits)  \n",
    "    circuit += X.on(target_qubits, ctrl_qubits)\n",
    "    circuit += RZ({para:1}).on(target_qubits)  \n",
    "    circuit += X.on(target_qubits, ctrl_qubits)\n",
    "    \n",
    "    for i in ctrl_qubits:\n",
    "        circuit += X.on(i)\n",
    "        \n",
    "    return circuit\n",
    "\n",
    "\n",
    "def build_T_part(para):            # para: parameter name\n",
    "    \n",
    "    target_qubits = len(G.nodes)   # The last qubit as the ancilla\n",
    "    qc_t = Circuit()\n",
    "    \n",
    "    for node in range(0, len(G.nodes)):                                # For each node, construct a Multi_Controlled_OR quantum circuit\n",
    "        neighbors = list(G.neighbors(node))  # Find the neighbors of the current node\n",
    "        ctrl_qubits = [node] + neighbors                # The control qubits are the node and its neighbors\n",
    "        \n",
    "        qc_t += create_cor(ctrl_qubits, target_qubits, para)\n",
    "        qc_t.barrier()\n",
    "    \n",
    "    return qc_t\n",
    "\n",
    "# Showing the constructed quantum circuit part\n",
    "Ti_circuit = build_T_part('gamma')\n",
    "Ti_circuit.svg()"
   ]
  },
  {
   "cell_type": "markdown",
   "metadata": {},
   "source": [
    "# Build the quantum circuit of the mixing Hamiltonian Hb"
   ]
  },
  {
   "cell_type": "code",
   "execution_count": 9,
   "metadata": {},
   "outputs": [
    {
     "name": "stdout",
     "output_type": "stream",
     "text": [
      "1 [X0] +\n",
      "1 [X1] +\n",
      "1 [X2] +\n",
      "1 [X3]\n"
     ]
    }
   ],
   "source": [
    "def build_hb():\n",
    "    hb = QubitOperator()\n",
    "    for i in range(len(G.nodes)):\n",
    "        hb += QubitOperator('X{}'.format(i), 1)\n",
    "    return hb\n",
    "\n",
    "hb = build_hb()\n",
    "print (hb)"
   ]
  },
  {
   "cell_type": "code",
   "execution_count": 10,
   "metadata": {},
   "outputs": [
    {
     "data": {
      "image/svg+xml": [
       "<svg xmlns=\"http://www.w3.org/2000/svg\" width=\"196.8\" height=\"260.0\" xmlns:xlink=\"http://www.w3.org/1999/xlink\"><rect x=\"0\" y=\"0.0\" width=\"196.8\" height=\"260.0\" fill=\"#ffffff\" /><text x=\"20.0\" y=\"40.0\" font-size=\"16px\" dominant-baseline=\"middle\" text-anchor=\"start\" font-family=\"Arial\" font-weight=\"normal\" fill=\"#252b3a\" >q0: </text><text x=\"20.0\" y=\"100.0\" font-size=\"16px\" dominant-baseline=\"middle\" text-anchor=\"start\" font-family=\"Arial\" font-weight=\"normal\" fill=\"#252b3a\" >q1: </text><text x=\"20.0\" y=\"160.0\" font-size=\"16px\" dominant-baseline=\"middle\" text-anchor=\"start\" font-family=\"Arial\" font-weight=\"normal\" fill=\"#252b3a\" >q2: </text><text x=\"20.0\" y=\"220.0\" font-size=\"16px\" dominant-baseline=\"middle\" text-anchor=\"start\" font-family=\"Arial\" font-weight=\"normal\" fill=\"#252b3a\" >q3: </text><line x1=\"48.8\" x2=\"176.8\" y1=\"40.0\" y2=\"40.0\" stroke=\"#adb0b8\" stroke-width=\"1\" /><line x1=\"48.8\" x2=\"176.8\" y1=\"100.0\" y2=\"100.0\" stroke=\"#adb0b8\" stroke-width=\"1\" /><line x1=\"48.8\" x2=\"176.8\" y1=\"160.0\" y2=\"160.0\" stroke=\"#adb0b8\" stroke-width=\"1\" /><line x1=\"48.8\" x2=\"176.8\" y1=\"220.0\" y2=\"220.0\" stroke=\"#adb0b8\" stroke-width=\"1\" /><rect x=\"72.8\" y=\"20.0\" width=\"80.0\" height=\"40\" rx=\"4\" ry=\"4\" stroke=\"#ffffff\" stroke-width=\"0\" fill=\"#fac209\" fill-opacity=\"1\" /><text x=\"112.8\" y=\"36.0\" font-size=\"20px\" dominant-baseline=\"middle\" text-anchor=\"middle\" font-family=\"Arial\" font-weight=\"normal\" fill=\"#ffffff\" >RX </text><text x=\"112.8\" y=\"52.0\" font-size=\"14.0px\" dominant-baseline=\"middle\" text-anchor=\"middle\" font-family=\"Arial\" font-weight=\"normal\" fill=\"#ffffff\" >2*beta </text><rect x=\"72.8\" y=\"80.0\" width=\"80.0\" height=\"40\" rx=\"4\" ry=\"4\" stroke=\"#ffffff\" stroke-width=\"0\" fill=\"#fac209\" fill-opacity=\"1\" /><text x=\"112.8\" y=\"96.0\" font-size=\"20px\" dominant-baseline=\"middle\" text-anchor=\"middle\" font-family=\"Arial\" font-weight=\"normal\" fill=\"#ffffff\" >RX </text><text x=\"112.8\" y=\"112.0\" font-size=\"14.0px\" dominant-baseline=\"middle\" text-anchor=\"middle\" font-family=\"Arial\" font-weight=\"normal\" fill=\"#ffffff\" >2*beta </text><rect x=\"72.8\" y=\"140.0\" width=\"80.0\" height=\"40\" rx=\"4\" ry=\"4\" stroke=\"#ffffff\" stroke-width=\"0\" fill=\"#fac209\" fill-opacity=\"1\" /><text x=\"112.8\" y=\"156.0\" font-size=\"20px\" dominant-baseline=\"middle\" text-anchor=\"middle\" font-family=\"Arial\" font-weight=\"normal\" fill=\"#ffffff\" >RX </text><text x=\"112.8\" y=\"172.0\" font-size=\"14.0px\" dominant-baseline=\"middle\" text-anchor=\"middle\" font-family=\"Arial\" font-weight=\"normal\" fill=\"#ffffff\" >2*beta </text><rect x=\"72.8\" y=\"200.0\" width=\"80.0\" height=\"40\" rx=\"4\" ry=\"4\" stroke=\"#ffffff\" stroke-width=\"0\" fill=\"#fac209\" fill-opacity=\"1\" /><text x=\"112.8\" y=\"216.0\" font-size=\"20px\" dominant-baseline=\"middle\" text-anchor=\"middle\" font-family=\"Arial\" font-weight=\"normal\" fill=\"#ffffff\" >RX </text><text x=\"112.8\" y=\"232.0\" font-size=\"14.0px\" dominant-baseline=\"middle\" text-anchor=\"middle\" font-family=\"Arial\" font-weight=\"normal\" fill=\"#ffffff\" >2*beta </text></svg>"
      ],
      "text/plain": [
       "<mindquantum.io.display.circuit_svg_drawer.SVGCircuit at 0x78f8d3abd730>"
      ]
     },
     "execution_count": 10,
     "metadata": {},
     "output_type": "execute_result"
    }
   ],
   "source": [
    "hb_circuit = TimeEvolution(hb,{'beta': 1.0}).circuit\n",
    "hb_circuit.svg()"
   ]
  },
  {
   "cell_type": "markdown",
   "metadata": {},
   "source": [
    "# Total quantum circuit"
   ]
  },
  {
   "cell_type": "code",
   "execution_count": 11,
   "metadata": {},
   "outputs": [],
   "source": [
    "def build_ansatz(p):        # p is the number of layers of ansatz                 \n",
    "    circ = UN(H, len(G.nodes))\n",
    "    circ.barrier()\n",
    "    \n",
    "    for i in range(p):\n",
    "        # Add the quantum circuit corresponding to Uc, with parameters recorded as g0、g1、g2... \n",
    "        circ += build_D_part(f'gamma{i}')     \n",
    "        circ += build_T_part(f'gamma{i}')   \n",
    "        \n",
    "        # Add the quantum circuit corresponding to Ub, with parameters recorded as b0, b1, b2...\n",
    "        circ += TimeEvolution(hb,{f'beta{i}': 1.0}).circuit    \n",
    "        circ.barrier()\n",
    "    return circ"
   ]
  },
  {
   "cell_type": "code",
   "execution_count": 12,
   "metadata": {},
   "outputs": [
    {
     "data": {
      "text/html": [
       "<pre style=\"white-space:pre;overflow-x:auto;line-height:normal;font-family:Menlo,'DejaVu Sans Mono',consolas,'Courier New',monospace\"><span style=\"color: #ff0000; text-decoration-color: #ff0000; font-weight: bold\">            Circuit Summary             </span>\n",
       "╭──────────────────────┬───────────────╮\n",
       "│<span style=\"font-weight: bold\"> </span><span style=\"color: #3b3b95; text-decoration-color: #3b3b95; font-weight: bold\">Info</span><span style=\"font-weight: bold\">                 </span>│<span style=\"font-weight: bold\"> </span><span style=\"color: #3b3b95; text-decoration-color: #3b3b95; font-weight: bold\">value</span><span style=\"font-weight: bold\">         </span>│\n",
       "├──────────────────────┼───────────────┤\n",
       "│ <span style=\"font-weight: bold\">Number of qubit</span>      │ 5             │\n",
       "├──────────────────────┼───────────────┤\n",
       "│ <span style=\"font-weight: bold\">Total number of gate</span> │ 60            │\n",
       "│ Barrier              │ 10            │\n",
       "│ Noise Channel        │ 0             │\n",
       "│ Measurement          │ 4             │\n",
       "├──────────────────────┼───────────────┤\n",
       "│ <span style=\"font-weight: bold\">Parameter gate</span>       │ 16            │\n",
       "│ 2 ansatz parameters  │ <span style=\"color: #48c9b0; text-decoration-color: #48c9b0\">gamma0, beta0</span> │\n",
       "╰──────────────────────┴───────────────╯\n",
       "</pre>\n"
      ],
      "text/plain": [
       "\u001b[1;38;2;255;0;0m            Circuit Summary             \u001b[0m\n",
       "╭──────────────────────┬───────────────╮\n",
       "│\u001b[1m \u001b[0m\u001b[1;38;2;59;59;149mInfo\u001b[0m\u001b[1m                \u001b[0m\u001b[1m \u001b[0m│\u001b[1m \u001b[0m\u001b[1;38;2;59;59;149mvalue\u001b[0m\u001b[1m        \u001b[0m\u001b[1m \u001b[0m│\n",
       "├──────────────────────┼───────────────┤\n",
       "│ \u001b[1mNumber of qubit\u001b[0m      │ 5             │\n",
       "├──────────────────────┼───────────────┤\n",
       "│ \u001b[1mTotal number of gate\u001b[0m │ 60            │\n",
       "│ Barrier              │ 10            │\n",
       "│ Noise Channel        │ 0             │\n",
       "│ Measurement          │ 4             │\n",
       "├──────────────────────┼───────────────┤\n",
       "│ \u001b[1mParameter gate\u001b[0m       │ 16            │\n",
       "│ 2 ansatz parameters  │ \u001b[38;2;72;201;176mgamma0, beta0\u001b[0m │\n",
       "╰──────────────────────┴───────────────╯\n"
      ]
     },
     "metadata": {},
     "output_type": "display_data"
    },
    {
     "data": {
      "image/svg+xml": [
       "<svg xmlns=\"http://www.w3.org/2000/svg\" width=\"3116.8\" height=\"320.0\" xmlns:xlink=\"http://www.w3.org/1999/xlink\"><rect x=\"0\" y=\"0.0\" width=\"3116.8\" height=\"320.0\" fill=\"#ffffff\" /><text x=\"20.0\" y=\"40.0\" font-size=\"16px\" dominant-baseline=\"middle\" text-anchor=\"start\" font-family=\"Arial\" font-weight=\"normal\" fill=\"#252b3a\" >q0: </text><text x=\"20.0\" y=\"100.0\" font-size=\"16px\" dominant-baseline=\"middle\" text-anchor=\"start\" font-family=\"Arial\" font-weight=\"normal\" fill=\"#252b3a\" >q1: </text><text x=\"20.0\" y=\"160.0\" font-size=\"16px\" dominant-baseline=\"middle\" text-anchor=\"start\" font-family=\"Arial\" font-weight=\"normal\" fill=\"#252b3a\" >q2: </text><text x=\"20.0\" y=\"220.0\" font-size=\"16px\" dominant-baseline=\"middle\" text-anchor=\"start\" font-family=\"Arial\" font-weight=\"normal\" fill=\"#252b3a\" >q3: </text><text x=\"20.0\" y=\"280.0\" font-size=\"16px\" dominant-baseline=\"middle\" text-anchor=\"start\" font-family=\"Arial\" font-weight=\"normal\" fill=\"#252b3a\" >q4: </text><line x1=\"48.8\" x2=\"3096.8\" y1=\"40.0\" y2=\"40.0\" stroke=\"#adb0b8\" stroke-width=\"1\" /><line x1=\"48.8\" x2=\"3096.8\" y1=\"100.0\" y2=\"100.0\" stroke=\"#adb0b8\" stroke-width=\"1\" /><line x1=\"48.8\" x2=\"3096.8\" y1=\"160.0\" y2=\"160.0\" stroke=\"#adb0b8\" stroke-width=\"1\" /><line x1=\"48.8\" x2=\"3096.8\" y1=\"220.0\" y2=\"220.0\" stroke=\"#adb0b8\" stroke-width=\"1\" /><line x1=\"48.8\" x2=\"3096.8\" y1=\"280.0\" y2=\"280.0\" stroke=\"#adb0b8\" stroke-width=\"1\" /><rect x=\"72.8\" y=\"20.0\" width=\"40.0\" height=\"40\" rx=\"4\" ry=\"4\" stroke=\"#ffffff\" stroke-width=\"0\" fill=\"#5e7ce0\" fill-opacity=\"1\" /><text x=\"92.8\" y=\"40.0\" font-size=\"20px\" dominant-baseline=\"middle\" text-anchor=\"middle\" font-family=\"Arial\" font-weight=\"normal\" fill=\"#ffffff\" >H </text><rect x=\"72.8\" y=\"80.0\" width=\"40.0\" height=\"40\" rx=\"4\" ry=\"4\" stroke=\"#ffffff\" stroke-width=\"0\" fill=\"#5e7ce0\" fill-opacity=\"1\" /><text x=\"92.8\" y=\"100.0\" font-size=\"20px\" dominant-baseline=\"middle\" text-anchor=\"middle\" font-family=\"Arial\" font-weight=\"normal\" fill=\"#ffffff\" >H </text><rect x=\"72.8\" y=\"140.0\" width=\"40.0\" height=\"40\" rx=\"4\" ry=\"4\" stroke=\"#ffffff\" stroke-width=\"0\" fill=\"#5e7ce0\" fill-opacity=\"1\" /><text x=\"92.8\" y=\"160.0\" font-size=\"20px\" dominant-baseline=\"middle\" text-anchor=\"middle\" font-family=\"Arial\" font-weight=\"normal\" fill=\"#ffffff\" >H </text><rect x=\"72.8\" y=\"200.0\" width=\"40.0\" height=\"40\" rx=\"4\" ry=\"4\" stroke=\"#ffffff\" stroke-width=\"0\" fill=\"#5e7ce0\" fill-opacity=\"1\" /><text x=\"92.8\" y=\"220.0\" font-size=\"20px\" dominant-baseline=\"middle\" text-anchor=\"middle\" font-family=\"Arial\" font-weight=\"normal\" fill=\"#ffffff\" >H </text><rect x=\"132.8\" y=\"20.0\" width=\"20\" height=\"280\" fill=\"gray\" fill-opacity=\"0.8\" /><rect x=\"172.8\" y=\"20.0\" width=\"40.0\" height=\"40\" rx=\"4\" ry=\"4\" stroke=\"#ffffff\" stroke-width=\"0\" fill=\"#5e7ce0\" fill-opacity=\"1\" /><text x=\"192.8\" y=\"40.0\" font-size=\"20px\" dominant-baseline=\"middle\" text-anchor=\"middle\" font-family=\"Arial\" font-weight=\"normal\" fill=\"#ffffff\" >X </text><circle cx=\"272.8\" cy=\"40.0\" r=\"4\" fill=\"#fac209\" /><line x1=\"272.8\" x2=\"272.8\" y1=\"40.0\" y2=\"280.0\" stroke=\"#fac209\" stroke-width=\"3\" /><rect x=\"232.8\" y=\"260.0\" width=\"80.0\" height=\"40\" rx=\"4\" ry=\"4\" stroke=\"#ffffff\" stroke-width=\"0\" fill=\"#fac209\" fill-opacity=\"1\" /><text x=\"272.8\" y=\"276.0\" font-size=\"20px\" dominant-baseline=\"middle\" text-anchor=\"middle\" font-family=\"Arial\" font-weight=\"normal\" fill=\"#ffffff\" >RZ </text><text x=\"272.8\" y=\"292.0\" font-size=\"14.0px\" dominant-baseline=\"middle\" text-anchor=\"middle\" font-family=\"Arial\" font-weight=\"normal\" fill=\"#ffffff\" >2*gamma0 </text><rect x=\"332.8\" y=\"20.0\" width=\"40.0\" height=\"40\" rx=\"4\" ry=\"4\" stroke=\"#ffffff\" stroke-width=\"0\" fill=\"#5e7ce0\" fill-opacity=\"1\" /><text x=\"352.8\" y=\"40.0\" font-size=\"20px\" dominant-baseline=\"middle\" text-anchor=\"middle\" font-family=\"Arial\" font-weight=\"normal\" fill=\"#ffffff\" >X </text><rect x=\"392.8\" y=\"20.0\" width=\"20\" height=\"280\" fill=\"gray\" fill-opacity=\"0.8\" /><rect x=\"432.8\" y=\"80.0\" width=\"40.0\" height=\"40\" rx=\"4\" ry=\"4\" stroke=\"#ffffff\" stroke-width=\"0\" fill=\"#5e7ce0\" fill-opacity=\"1\" /><text x=\"452.8\" y=\"100.0\" font-size=\"20px\" dominant-baseline=\"middle\" text-anchor=\"middle\" font-family=\"Arial\" font-weight=\"normal\" fill=\"#ffffff\" >X </text><circle cx=\"532.8\" cy=\"100.0\" r=\"4\" fill=\"#fac209\" /><line x1=\"532.8\" x2=\"532.8\" y1=\"100.0\" y2=\"280.0\" stroke=\"#fac209\" stroke-width=\"3\" /><rect x=\"492.8\" y=\"260.0\" width=\"80.0\" height=\"40\" rx=\"4\" ry=\"4\" stroke=\"#ffffff\" stroke-width=\"0\" fill=\"#fac209\" fill-opacity=\"1\" /><text x=\"532.8\" y=\"276.0\" font-size=\"20px\" dominant-baseline=\"middle\" text-anchor=\"middle\" font-family=\"Arial\" font-weight=\"normal\" fill=\"#ffffff\" >RZ </text><text x=\"532.8\" y=\"292.0\" font-size=\"14.0px\" dominant-baseline=\"middle\" text-anchor=\"middle\" font-family=\"Arial\" font-weight=\"normal\" fill=\"#ffffff\" >2*gamma0 </text><rect x=\"592.8\" y=\"80.0\" width=\"40.0\" height=\"40\" rx=\"4\" ry=\"4\" stroke=\"#ffffff\" stroke-width=\"0\" fill=\"#5e7ce0\" fill-opacity=\"1\" /><text x=\"612.8\" y=\"100.0\" font-size=\"20px\" dominant-baseline=\"middle\" text-anchor=\"middle\" font-family=\"Arial\" font-weight=\"normal\" fill=\"#ffffff\" >X </text><rect x=\"652.8\" y=\"20.0\" width=\"20\" height=\"280\" fill=\"gray\" fill-opacity=\"0.8\" /><rect x=\"692.8\" y=\"140.0\" width=\"40.0\" height=\"40\" rx=\"4\" ry=\"4\" stroke=\"#ffffff\" stroke-width=\"0\" fill=\"#5e7ce0\" fill-opacity=\"1\" /><text x=\"712.8\" y=\"160.0\" font-size=\"20px\" dominant-baseline=\"middle\" text-anchor=\"middle\" font-family=\"Arial\" font-weight=\"normal\" fill=\"#ffffff\" >X </text><circle cx=\"792.8\" cy=\"160.0\" r=\"4\" fill=\"#fac209\" /><line x1=\"792.8\" x2=\"792.8\" y1=\"160.0\" y2=\"280.0\" stroke=\"#fac209\" stroke-width=\"3\" /><rect x=\"752.8\" y=\"260.0\" width=\"80.0\" height=\"40\" rx=\"4\" ry=\"4\" stroke=\"#ffffff\" stroke-width=\"0\" fill=\"#fac209\" fill-opacity=\"1\" /><text x=\"792.8\" y=\"276.0\" font-size=\"20px\" dominant-baseline=\"middle\" text-anchor=\"middle\" font-family=\"Arial\" font-weight=\"normal\" fill=\"#ffffff\" >RZ </text><text x=\"792.8\" y=\"292.0\" font-size=\"14.0px\" dominant-baseline=\"middle\" text-anchor=\"middle\" font-family=\"Arial\" font-weight=\"normal\" fill=\"#ffffff\" >2*gamma0 </text><rect x=\"852.8\" y=\"140.0\" width=\"40.0\" height=\"40\" rx=\"4\" ry=\"4\" stroke=\"#ffffff\" stroke-width=\"0\" fill=\"#5e7ce0\" fill-opacity=\"1\" /><text x=\"872.8\" y=\"160.0\" font-size=\"20px\" dominant-baseline=\"middle\" text-anchor=\"middle\" font-family=\"Arial\" font-weight=\"normal\" fill=\"#ffffff\" >X </text><rect x=\"912.8\" y=\"20.0\" width=\"20\" height=\"280\" fill=\"gray\" fill-opacity=\"0.8\" /><rect x=\"952.8\" y=\"200.0\" width=\"40.0\" height=\"40\" rx=\"4\" ry=\"4\" stroke=\"#ffffff\" stroke-width=\"0\" fill=\"#5e7ce0\" fill-opacity=\"1\" /><text x=\"972.8\" y=\"220.0\" font-size=\"20px\" dominant-baseline=\"middle\" text-anchor=\"middle\" font-family=\"Arial\" font-weight=\"normal\" fill=\"#ffffff\" >X </text><circle cx=\"1052.8\" cy=\"220.0\" r=\"4\" fill=\"#fac209\" /><line x1=\"1052.8\" x2=\"1052.8\" y1=\"220.0\" y2=\"280.0\" stroke=\"#fac209\" stroke-width=\"3\" /><rect x=\"1012.8\" y=\"260.0\" width=\"80.0\" height=\"40\" rx=\"4\" ry=\"4\" stroke=\"#ffffff\" stroke-width=\"0\" fill=\"#fac209\" fill-opacity=\"1\" /><text x=\"1052.8\" y=\"276.0\" font-size=\"20px\" dominant-baseline=\"middle\" text-anchor=\"middle\" font-family=\"Arial\" font-weight=\"normal\" fill=\"#ffffff\" >RZ </text><text x=\"1052.8\" y=\"292.0\" font-size=\"14.0px\" dominant-baseline=\"middle\" text-anchor=\"middle\" font-family=\"Arial\" font-weight=\"normal\" fill=\"#ffffff\" >2*gamma0 </text><rect x=\"1112.8\" y=\"200.0\" width=\"40.0\" height=\"40\" rx=\"4\" ry=\"4\" stroke=\"#ffffff\" stroke-width=\"0\" fill=\"#5e7ce0\" fill-opacity=\"1\" /><text x=\"1132.8\" y=\"220.0\" font-size=\"20px\" dominant-baseline=\"middle\" text-anchor=\"middle\" font-family=\"Arial\" font-weight=\"normal\" fill=\"#ffffff\" >X </text><rect x=\"1172.8\" y=\"20.0\" width=\"20\" height=\"280\" fill=\"gray\" fill-opacity=\"0.8\" /><rect x=\"1212.8\" y=\"20.0\" width=\"40.0\" height=\"40\" rx=\"4\" ry=\"4\" stroke=\"#ffffff\" stroke-width=\"0\" fill=\"#5e7ce0\" fill-opacity=\"1\" /><text x=\"1232.8\" y=\"40.0\" font-size=\"20px\" dominant-baseline=\"middle\" text-anchor=\"middle\" font-family=\"Arial\" font-weight=\"normal\" fill=\"#ffffff\" >X </text><rect x=\"1212.8\" y=\"80.0\" width=\"40.0\" height=\"40\" rx=\"4\" ry=\"4\" stroke=\"#ffffff\" stroke-width=\"0\" fill=\"#5e7ce0\" fill-opacity=\"1\" /><text x=\"1232.8\" y=\"100.0\" font-size=\"20px\" dominant-baseline=\"middle\" text-anchor=\"middle\" font-family=\"Arial\" font-weight=\"normal\" fill=\"#ffffff\" >X </text><rect x=\"1212.8\" y=\"140.0\" width=\"40.0\" height=\"40\" rx=\"4\" ry=\"4\" stroke=\"#ffffff\" stroke-width=\"0\" fill=\"#5e7ce0\" fill-opacity=\"1\" /><text x=\"1232.8\" y=\"160.0\" font-size=\"20px\" dominant-baseline=\"middle\" text-anchor=\"middle\" font-family=\"Arial\" font-weight=\"normal\" fill=\"#ffffff\" >X </text><rect x=\"1212.8\" y=\"260.0\" width=\"80.0\" height=\"40\" rx=\"4\" ry=\"4\" stroke=\"#ffffff\" stroke-width=\"0\" fill=\"#fac209\" fill-opacity=\"1\" /><text x=\"1252.8\" y=\"276.0\" font-size=\"20px\" dominant-baseline=\"middle\" text-anchor=\"middle\" font-family=\"Arial\" font-weight=\"normal\" fill=\"#ffffff\" >RZ </text><text x=\"1252.8\" y=\"292.0\" font-size=\"14.0px\" dominant-baseline=\"middle\" text-anchor=\"middle\" font-family=\"Arial\" font-weight=\"normal\" fill=\"#ffffff\" >gamma0 </text><circle cx=\"1332.8\" cy=\"40.0\" r=\"4\" fill=\"#5e7ce0\" /><circle cx=\"1332.8\" cy=\"100.0\" r=\"4\" fill=\"#5e7ce0\" /><circle cx=\"1332.8\" cy=\"160.0\" r=\"4\" fill=\"#5e7ce0\" /><line x1=\"1332.8\" x2=\"1332.8\" y1=\"40.0\" y2=\"280.0\" stroke=\"#5e7ce0\" stroke-width=\"3\" /><rect x=\"1312.8\" y=\"260.0\" width=\"40.0\" height=\"40\" rx=\"4\" ry=\"4\" stroke=\"#ffffff\" stroke-width=\"0\" fill=\"#5e7ce0\" fill-opacity=\"1\" /><text x=\"1332.8\" y=\"280.0\" font-size=\"20px\" dominant-baseline=\"middle\" text-anchor=\"middle\" font-family=\"Arial\" font-weight=\"normal\" fill=\"#ffffff\" >X </text><rect x=\"1372.8\" y=\"260.0\" width=\"80.0\" height=\"40\" rx=\"4\" ry=\"4\" stroke=\"#ffffff\" stroke-width=\"0\" fill=\"#fac209\" fill-opacity=\"1\" /><text x=\"1412.8\" y=\"276.0\" font-size=\"20px\" dominant-baseline=\"middle\" text-anchor=\"middle\" font-family=\"Arial\" font-weight=\"normal\" fill=\"#ffffff\" >RZ </text><text x=\"1412.8\" y=\"292.0\" font-size=\"14.0px\" dominant-baseline=\"middle\" text-anchor=\"middle\" font-family=\"Arial\" font-weight=\"normal\" fill=\"#ffffff\" >gamma0 </text><circle cx=\"1492.8\" cy=\"40.0\" r=\"4\" fill=\"#5e7ce0\" /><circle cx=\"1492.8\" cy=\"100.0\" r=\"4\" fill=\"#5e7ce0\" /><circle cx=\"1492.8\" cy=\"160.0\" r=\"4\" fill=\"#5e7ce0\" /><line x1=\"1492.8\" x2=\"1492.8\" y1=\"40.0\" y2=\"280.0\" stroke=\"#5e7ce0\" stroke-width=\"3\" /><rect x=\"1472.8\" y=\"260.0\" width=\"40.0\" height=\"40\" rx=\"4\" ry=\"4\" stroke=\"#ffffff\" stroke-width=\"0\" fill=\"#5e7ce0\" fill-opacity=\"1\" /><text x=\"1492.8\" y=\"280.0\" font-size=\"20px\" dominant-baseline=\"middle\" text-anchor=\"middle\" font-family=\"Arial\" font-weight=\"normal\" fill=\"#ffffff\" >X </text><rect x=\"1532.8\" y=\"20.0\" width=\"40.0\" height=\"40\" rx=\"4\" ry=\"4\" stroke=\"#ffffff\" stroke-width=\"0\" fill=\"#5e7ce0\" fill-opacity=\"1\" /><text x=\"1552.8\" y=\"40.0\" font-size=\"20px\" dominant-baseline=\"middle\" text-anchor=\"middle\" font-family=\"Arial\" font-weight=\"normal\" fill=\"#ffffff\" >X </text><rect x=\"1532.8\" y=\"80.0\" width=\"40.0\" height=\"40\" rx=\"4\" ry=\"4\" stroke=\"#ffffff\" stroke-width=\"0\" fill=\"#5e7ce0\" fill-opacity=\"1\" /><text x=\"1552.8\" y=\"100.0\" font-size=\"20px\" dominant-baseline=\"middle\" text-anchor=\"middle\" font-family=\"Arial\" font-weight=\"normal\" fill=\"#ffffff\" >X </text><rect x=\"1532.8\" y=\"140.0\" width=\"40.0\" height=\"40\" rx=\"4\" ry=\"4\" stroke=\"#ffffff\" stroke-width=\"0\" fill=\"#5e7ce0\" fill-opacity=\"1\" /><text x=\"1552.8\" y=\"160.0\" font-size=\"20px\" dominant-baseline=\"middle\" text-anchor=\"middle\" font-family=\"Arial\" font-weight=\"normal\" fill=\"#ffffff\" >X </text><rect x=\"1592.8\" y=\"20.0\" width=\"20\" height=\"280\" fill=\"gray\" fill-opacity=\"0.8\" /><rect x=\"1632.8\" y=\"80.0\" width=\"40.0\" height=\"40\" rx=\"4\" ry=\"4\" stroke=\"#ffffff\" stroke-width=\"0\" fill=\"#5e7ce0\" fill-opacity=\"1\" /><text x=\"1652.8\" y=\"100.0\" font-size=\"20px\" dominant-baseline=\"middle\" text-anchor=\"middle\" font-family=\"Arial\" font-weight=\"normal\" fill=\"#ffffff\" >X </text><rect x=\"1632.8\" y=\"20.0\" width=\"40.0\" height=\"40\" rx=\"4\" ry=\"4\" stroke=\"#ffffff\" stroke-width=\"0\" fill=\"#5e7ce0\" fill-opacity=\"1\" /><text x=\"1652.8\" y=\"40.0\" font-size=\"20px\" dominant-baseline=\"middle\" text-anchor=\"middle\" font-family=\"Arial\" font-weight=\"normal\" fill=\"#ffffff\" >X </text><rect x=\"1632.8\" y=\"140.0\" width=\"40.0\" height=\"40\" rx=\"4\" ry=\"4\" stroke=\"#ffffff\" stroke-width=\"0\" fill=\"#5e7ce0\" fill-opacity=\"1\" /><text x=\"1652.8\" y=\"160.0\" font-size=\"20px\" dominant-baseline=\"middle\" text-anchor=\"middle\" font-family=\"Arial\" font-weight=\"normal\" fill=\"#ffffff\" >X </text><rect x=\"1632.8\" y=\"260.0\" width=\"80.0\" height=\"40\" rx=\"4\" ry=\"4\" stroke=\"#ffffff\" stroke-width=\"0\" fill=\"#fac209\" fill-opacity=\"1\" /><text x=\"1672.8\" y=\"276.0\" font-size=\"20px\" dominant-baseline=\"middle\" text-anchor=\"middle\" font-family=\"Arial\" font-weight=\"normal\" fill=\"#ffffff\" >RZ </text><text x=\"1672.8\" y=\"292.0\" font-size=\"14.0px\" dominant-baseline=\"middle\" text-anchor=\"middle\" font-family=\"Arial\" font-weight=\"normal\" fill=\"#ffffff\" >gamma0 </text><circle cx=\"1752.8\" cy=\"100.0\" r=\"4\" fill=\"#5e7ce0\" /><circle cx=\"1752.8\" cy=\"40.0\" r=\"4\" fill=\"#5e7ce0\" /><circle cx=\"1752.8\" cy=\"160.0\" r=\"4\" fill=\"#5e7ce0\" /><line x1=\"1752.8\" x2=\"1752.8\" y1=\"40.0\" y2=\"280.0\" stroke=\"#5e7ce0\" stroke-width=\"3\" /><rect x=\"1732.8\" y=\"260.0\" width=\"40.0\" height=\"40\" rx=\"4\" ry=\"4\" stroke=\"#ffffff\" stroke-width=\"0\" fill=\"#5e7ce0\" fill-opacity=\"1\" /><text x=\"1752.8\" y=\"280.0\" font-size=\"20px\" dominant-baseline=\"middle\" text-anchor=\"middle\" font-family=\"Arial\" font-weight=\"normal\" fill=\"#ffffff\" >X </text><rect x=\"1792.8\" y=\"260.0\" width=\"80.0\" height=\"40\" rx=\"4\" ry=\"4\" stroke=\"#ffffff\" stroke-width=\"0\" fill=\"#fac209\" fill-opacity=\"1\" /><text x=\"1832.8\" y=\"276.0\" font-size=\"20px\" dominant-baseline=\"middle\" text-anchor=\"middle\" font-family=\"Arial\" font-weight=\"normal\" fill=\"#ffffff\" >RZ </text><text x=\"1832.8\" y=\"292.0\" font-size=\"14.0px\" dominant-baseline=\"middle\" text-anchor=\"middle\" font-family=\"Arial\" font-weight=\"normal\" fill=\"#ffffff\" >gamma0 </text><circle cx=\"1912.8\" cy=\"100.0\" r=\"4\" fill=\"#5e7ce0\" /><circle cx=\"1912.8\" cy=\"40.0\" r=\"4\" fill=\"#5e7ce0\" /><circle cx=\"1912.8\" cy=\"160.0\" r=\"4\" fill=\"#5e7ce0\" /><line x1=\"1912.8\" x2=\"1912.8\" y1=\"40.0\" y2=\"280.0\" stroke=\"#5e7ce0\" stroke-width=\"3\" /><rect x=\"1892.8\" y=\"260.0\" width=\"40.0\" height=\"40\" rx=\"4\" ry=\"4\" stroke=\"#ffffff\" stroke-width=\"0\" fill=\"#5e7ce0\" fill-opacity=\"1\" /><text x=\"1912.8\" y=\"280.0\" font-size=\"20px\" dominant-baseline=\"middle\" text-anchor=\"middle\" font-family=\"Arial\" font-weight=\"normal\" fill=\"#ffffff\" >X </text><rect x=\"1952.8\" y=\"80.0\" width=\"40.0\" height=\"40\" rx=\"4\" ry=\"4\" stroke=\"#ffffff\" stroke-width=\"0\" fill=\"#5e7ce0\" fill-opacity=\"1\" /><text x=\"1972.8\" y=\"100.0\" font-size=\"20px\" dominant-baseline=\"middle\" text-anchor=\"middle\" font-family=\"Arial\" font-weight=\"normal\" fill=\"#ffffff\" >X </text><rect x=\"1952.8\" y=\"20.0\" width=\"40.0\" height=\"40\" rx=\"4\" ry=\"4\" stroke=\"#ffffff\" stroke-width=\"0\" fill=\"#5e7ce0\" fill-opacity=\"1\" /><text x=\"1972.8\" y=\"40.0\" font-size=\"20px\" dominant-baseline=\"middle\" text-anchor=\"middle\" font-family=\"Arial\" font-weight=\"normal\" fill=\"#ffffff\" >X </text><rect x=\"1952.8\" y=\"140.0\" width=\"40.0\" height=\"40\" rx=\"4\" ry=\"4\" stroke=\"#ffffff\" stroke-width=\"0\" fill=\"#5e7ce0\" fill-opacity=\"1\" /><text x=\"1972.8\" y=\"160.0\" font-size=\"20px\" dominant-baseline=\"middle\" text-anchor=\"middle\" font-family=\"Arial\" font-weight=\"normal\" fill=\"#ffffff\" >X </text><rect x=\"2012.8\" y=\"20.0\" width=\"20\" height=\"280\" fill=\"gray\" fill-opacity=\"0.8\" /><rect x=\"2052.8\" y=\"140.0\" width=\"40.0\" height=\"40\" rx=\"4\" ry=\"4\" stroke=\"#ffffff\" stroke-width=\"0\" fill=\"#5e7ce0\" fill-opacity=\"1\" /><text x=\"2072.8\" y=\"160.0\" font-size=\"20px\" dominant-baseline=\"middle\" text-anchor=\"middle\" font-family=\"Arial\" font-weight=\"normal\" fill=\"#ffffff\" >X </text><rect x=\"2052.8\" y=\"20.0\" width=\"40.0\" height=\"40\" rx=\"4\" ry=\"4\" stroke=\"#ffffff\" stroke-width=\"0\" fill=\"#5e7ce0\" fill-opacity=\"1\" /><text x=\"2072.8\" y=\"40.0\" font-size=\"20px\" dominant-baseline=\"middle\" text-anchor=\"middle\" font-family=\"Arial\" font-weight=\"normal\" fill=\"#ffffff\" >X </text><rect x=\"2052.8\" y=\"80.0\" width=\"40.0\" height=\"40\" rx=\"4\" ry=\"4\" stroke=\"#ffffff\" stroke-width=\"0\" fill=\"#5e7ce0\" fill-opacity=\"1\" /><text x=\"2072.8\" y=\"100.0\" font-size=\"20px\" dominant-baseline=\"middle\" text-anchor=\"middle\" font-family=\"Arial\" font-weight=\"normal\" fill=\"#ffffff\" >X </text><rect x=\"2052.8\" y=\"200.0\" width=\"40.0\" height=\"40\" rx=\"4\" ry=\"4\" stroke=\"#ffffff\" stroke-width=\"0\" fill=\"#5e7ce0\" fill-opacity=\"1\" /><text x=\"2072.8\" y=\"220.0\" font-size=\"20px\" dominant-baseline=\"middle\" text-anchor=\"middle\" font-family=\"Arial\" font-weight=\"normal\" fill=\"#ffffff\" >X </text><rect x=\"2052.8\" y=\"260.0\" width=\"80.0\" height=\"40\" rx=\"4\" ry=\"4\" stroke=\"#ffffff\" stroke-width=\"0\" fill=\"#fac209\" fill-opacity=\"1\" /><text x=\"2092.8\" y=\"276.0\" font-size=\"20px\" dominant-baseline=\"middle\" text-anchor=\"middle\" font-family=\"Arial\" font-weight=\"normal\" fill=\"#ffffff\" >RZ </text><text x=\"2092.8\" y=\"292.0\" font-size=\"14.0px\" dominant-baseline=\"middle\" text-anchor=\"middle\" font-family=\"Arial\" font-weight=\"normal\" fill=\"#ffffff\" >gamma0 </text><circle cx=\"2172.8\" cy=\"160.0\" r=\"4\" fill=\"#5e7ce0\" /><circle cx=\"2172.8\" cy=\"40.0\" r=\"4\" fill=\"#5e7ce0\" /><circle cx=\"2172.8\" cy=\"100.0\" r=\"4\" fill=\"#5e7ce0\" /><circle cx=\"2172.8\" cy=\"220.0\" r=\"4\" fill=\"#5e7ce0\" /><line x1=\"2172.8\" x2=\"2172.8\" y1=\"40.0\" y2=\"280.0\" stroke=\"#5e7ce0\" stroke-width=\"3\" /><rect x=\"2152.8\" y=\"260.0\" width=\"40.0\" height=\"40\" rx=\"4\" ry=\"4\" stroke=\"#ffffff\" stroke-width=\"0\" fill=\"#5e7ce0\" fill-opacity=\"1\" /><text x=\"2172.8\" y=\"280.0\" font-size=\"20px\" dominant-baseline=\"middle\" text-anchor=\"middle\" font-family=\"Arial\" font-weight=\"normal\" fill=\"#ffffff\" >X </text><rect x=\"2212.8\" y=\"260.0\" width=\"80.0\" height=\"40\" rx=\"4\" ry=\"4\" stroke=\"#ffffff\" stroke-width=\"0\" fill=\"#fac209\" fill-opacity=\"1\" /><text x=\"2252.8\" y=\"276.0\" font-size=\"20px\" dominant-baseline=\"middle\" text-anchor=\"middle\" font-family=\"Arial\" font-weight=\"normal\" fill=\"#ffffff\" >RZ </text><text x=\"2252.8\" y=\"292.0\" font-size=\"14.0px\" dominant-baseline=\"middle\" text-anchor=\"middle\" font-family=\"Arial\" font-weight=\"normal\" fill=\"#ffffff\" >gamma0 </text><circle cx=\"2332.8\" cy=\"160.0\" r=\"4\" fill=\"#5e7ce0\" /><circle cx=\"2332.8\" cy=\"40.0\" r=\"4\" fill=\"#5e7ce0\" /><circle cx=\"2332.8\" cy=\"100.0\" r=\"4\" fill=\"#5e7ce0\" /><circle cx=\"2332.8\" cy=\"220.0\" r=\"4\" fill=\"#5e7ce0\" /><line x1=\"2332.8\" x2=\"2332.8\" y1=\"40.0\" y2=\"280.0\" stroke=\"#5e7ce0\" stroke-width=\"3\" /><rect x=\"2312.8\" y=\"260.0\" width=\"40.0\" height=\"40\" rx=\"4\" ry=\"4\" stroke=\"#ffffff\" stroke-width=\"0\" fill=\"#5e7ce0\" fill-opacity=\"1\" /><text x=\"2332.8\" y=\"280.0\" font-size=\"20px\" dominant-baseline=\"middle\" text-anchor=\"middle\" font-family=\"Arial\" font-weight=\"normal\" fill=\"#ffffff\" >X </text><rect x=\"2372.8\" y=\"140.0\" width=\"40.0\" height=\"40\" rx=\"4\" ry=\"4\" stroke=\"#ffffff\" stroke-width=\"0\" fill=\"#5e7ce0\" fill-opacity=\"1\" /><text x=\"2392.8\" y=\"160.0\" font-size=\"20px\" dominant-baseline=\"middle\" text-anchor=\"middle\" font-family=\"Arial\" font-weight=\"normal\" fill=\"#ffffff\" >X </text><rect x=\"2372.8\" y=\"20.0\" width=\"40.0\" height=\"40\" rx=\"4\" ry=\"4\" stroke=\"#ffffff\" stroke-width=\"0\" fill=\"#5e7ce0\" fill-opacity=\"1\" /><text x=\"2392.8\" y=\"40.0\" font-size=\"20px\" dominant-baseline=\"middle\" text-anchor=\"middle\" font-family=\"Arial\" font-weight=\"normal\" fill=\"#ffffff\" >X </text><rect x=\"2372.8\" y=\"80.0\" width=\"40.0\" height=\"40\" rx=\"4\" ry=\"4\" stroke=\"#ffffff\" stroke-width=\"0\" fill=\"#5e7ce0\" fill-opacity=\"1\" /><text x=\"2392.8\" y=\"100.0\" font-size=\"20px\" dominant-baseline=\"middle\" text-anchor=\"middle\" font-family=\"Arial\" font-weight=\"normal\" fill=\"#ffffff\" >X </text><rect x=\"2372.8\" y=\"200.0\" width=\"40.0\" height=\"40\" rx=\"4\" ry=\"4\" stroke=\"#ffffff\" stroke-width=\"0\" fill=\"#5e7ce0\" fill-opacity=\"1\" /><text x=\"2392.8\" y=\"220.0\" font-size=\"20px\" dominant-baseline=\"middle\" text-anchor=\"middle\" font-family=\"Arial\" font-weight=\"normal\" fill=\"#ffffff\" >X </text><rect x=\"2432.8\" y=\"20.0\" width=\"20\" height=\"280\" fill=\"gray\" fill-opacity=\"0.8\" /><rect x=\"2472.8\" y=\"200.0\" width=\"40.0\" height=\"40\" rx=\"4\" ry=\"4\" stroke=\"#ffffff\" stroke-width=\"0\" fill=\"#5e7ce0\" fill-opacity=\"1\" /><text x=\"2492.8\" y=\"220.0\" font-size=\"20px\" dominant-baseline=\"middle\" text-anchor=\"middle\" font-family=\"Arial\" font-weight=\"normal\" fill=\"#ffffff\" >X </text><rect x=\"2472.8\" y=\"140.0\" width=\"40.0\" height=\"40\" rx=\"4\" ry=\"4\" stroke=\"#ffffff\" stroke-width=\"0\" fill=\"#5e7ce0\" fill-opacity=\"1\" /><text x=\"2492.8\" y=\"160.0\" font-size=\"20px\" dominant-baseline=\"middle\" text-anchor=\"middle\" font-family=\"Arial\" font-weight=\"normal\" fill=\"#ffffff\" >X </text><rect x=\"2472.8\" y=\"260.0\" width=\"80.0\" height=\"40\" rx=\"4\" ry=\"4\" stroke=\"#ffffff\" stroke-width=\"0\" fill=\"#fac209\" fill-opacity=\"1\" /><text x=\"2512.8\" y=\"276.0\" font-size=\"20px\" dominant-baseline=\"middle\" text-anchor=\"middle\" font-family=\"Arial\" font-weight=\"normal\" fill=\"#ffffff\" >RZ </text><text x=\"2512.8\" y=\"292.0\" font-size=\"14.0px\" dominant-baseline=\"middle\" text-anchor=\"middle\" font-family=\"Arial\" font-weight=\"normal\" fill=\"#ffffff\" >gamma0 </text><circle cx=\"2592.8\" cy=\"220.0\" r=\"4\" fill=\"#5e7ce0\" /><circle cx=\"2592.8\" cy=\"160.0\" r=\"4\" fill=\"#5e7ce0\" /><line x1=\"2592.8\" x2=\"2592.8\" y1=\"160.0\" y2=\"280.0\" stroke=\"#5e7ce0\" stroke-width=\"3\" /><rect x=\"2572.8\" y=\"260.0\" width=\"40.0\" height=\"40\" rx=\"4\" ry=\"4\" stroke=\"#ffffff\" stroke-width=\"0\" fill=\"#5e7ce0\" fill-opacity=\"1\" /><text x=\"2592.8\" y=\"280.0\" font-size=\"20px\" dominant-baseline=\"middle\" text-anchor=\"middle\" font-family=\"Arial\" font-weight=\"normal\" fill=\"#ffffff\" >X </text><rect x=\"2632.8\" y=\"260.0\" width=\"80.0\" height=\"40\" rx=\"4\" ry=\"4\" stroke=\"#ffffff\" stroke-width=\"0\" fill=\"#fac209\" fill-opacity=\"1\" /><text x=\"2672.8\" y=\"276.0\" font-size=\"20px\" dominant-baseline=\"middle\" text-anchor=\"middle\" font-family=\"Arial\" font-weight=\"normal\" fill=\"#ffffff\" >RZ </text><text x=\"2672.8\" y=\"292.0\" font-size=\"14.0px\" dominant-baseline=\"middle\" text-anchor=\"middle\" font-family=\"Arial\" font-weight=\"normal\" fill=\"#ffffff\" >gamma0 </text><circle cx=\"2752.8\" cy=\"220.0\" r=\"4\" fill=\"#5e7ce0\" /><circle cx=\"2752.8\" cy=\"160.0\" r=\"4\" fill=\"#5e7ce0\" /><line x1=\"2752.8\" x2=\"2752.8\" y1=\"160.0\" y2=\"280.0\" stroke=\"#5e7ce0\" stroke-width=\"3\" /><rect x=\"2732.8\" y=\"260.0\" width=\"40.0\" height=\"40\" rx=\"4\" ry=\"4\" stroke=\"#ffffff\" stroke-width=\"0\" fill=\"#5e7ce0\" fill-opacity=\"1\" /><text x=\"2752.8\" y=\"280.0\" font-size=\"20px\" dominant-baseline=\"middle\" text-anchor=\"middle\" font-family=\"Arial\" font-weight=\"normal\" fill=\"#ffffff\" >X </text><rect x=\"2792.8\" y=\"200.0\" width=\"40.0\" height=\"40\" rx=\"4\" ry=\"4\" stroke=\"#ffffff\" stroke-width=\"0\" fill=\"#5e7ce0\" fill-opacity=\"1\" /><text x=\"2812.8\" y=\"220.0\" font-size=\"20px\" dominant-baseline=\"middle\" text-anchor=\"middle\" font-family=\"Arial\" font-weight=\"normal\" fill=\"#ffffff\" >X </text><rect x=\"2792.8\" y=\"140.0\" width=\"40.0\" height=\"40\" rx=\"4\" ry=\"4\" stroke=\"#ffffff\" stroke-width=\"0\" fill=\"#5e7ce0\" fill-opacity=\"1\" /><text x=\"2812.8\" y=\"160.0\" font-size=\"20px\" dominant-baseline=\"middle\" text-anchor=\"middle\" font-family=\"Arial\" font-weight=\"normal\" fill=\"#ffffff\" >X </text><rect x=\"2852.8\" y=\"20.0\" width=\"20\" height=\"280\" fill=\"gray\" fill-opacity=\"0.8\" /><rect x=\"2892.8\" y=\"20.0\" width=\"80.0\" height=\"40\" rx=\"4\" ry=\"4\" stroke=\"#ffffff\" stroke-width=\"0\" fill=\"#fac209\" fill-opacity=\"1\" /><text x=\"2932.8\" y=\"36.0\" font-size=\"20px\" dominant-baseline=\"middle\" text-anchor=\"middle\" font-family=\"Arial\" font-weight=\"normal\" fill=\"#ffffff\" >RX </text><text x=\"2932.8\" y=\"52.0\" font-size=\"14.0px\" dominant-baseline=\"middle\" text-anchor=\"middle\" font-family=\"Arial\" font-weight=\"normal\" fill=\"#ffffff\" >2*beta0 </text><rect x=\"2892.8\" y=\"80.0\" width=\"80.0\" height=\"40\" rx=\"4\" ry=\"4\" stroke=\"#ffffff\" stroke-width=\"0\" fill=\"#fac209\" fill-opacity=\"1\" /><text x=\"2932.8\" y=\"96.0\" font-size=\"20px\" dominant-baseline=\"middle\" text-anchor=\"middle\" font-family=\"Arial\" font-weight=\"normal\" fill=\"#ffffff\" >RX </text><text x=\"2932.8\" y=\"112.0\" font-size=\"14.0px\" dominant-baseline=\"middle\" text-anchor=\"middle\" font-family=\"Arial\" font-weight=\"normal\" fill=\"#ffffff\" >2*beta0 </text><rect x=\"2892.8\" y=\"140.0\" width=\"80.0\" height=\"40\" rx=\"4\" ry=\"4\" stroke=\"#ffffff\" stroke-width=\"0\" fill=\"#fac209\" fill-opacity=\"1\" /><text x=\"2932.8\" y=\"156.0\" font-size=\"20px\" dominant-baseline=\"middle\" text-anchor=\"middle\" font-family=\"Arial\" font-weight=\"normal\" fill=\"#ffffff\" >RX </text><text x=\"2932.8\" y=\"172.0\" font-size=\"14.0px\" dominant-baseline=\"middle\" text-anchor=\"middle\" font-family=\"Arial\" font-weight=\"normal\" fill=\"#ffffff\" >2*beta0 </text><rect x=\"2892.8\" y=\"200.0\" width=\"80.0\" height=\"40\" rx=\"4\" ry=\"4\" stroke=\"#ffffff\" stroke-width=\"0\" fill=\"#fac209\" fill-opacity=\"1\" /><text x=\"2932.8\" y=\"216.0\" font-size=\"20px\" dominant-baseline=\"middle\" text-anchor=\"middle\" font-family=\"Arial\" font-weight=\"normal\" fill=\"#ffffff\" >RX </text><text x=\"2932.8\" y=\"232.0\" font-size=\"14.0px\" dominant-baseline=\"middle\" text-anchor=\"middle\" font-family=\"Arial\" font-weight=\"normal\" fill=\"#ffffff\" >2*beta0 </text><rect x=\"2992.8\" y=\"20.0\" width=\"20\" height=\"280\" fill=\"gray\" fill-opacity=\"0.8\" /><rect x=\"3032.8\" y=\"20.0\" width=\"40\" height=\"40\" rx=\"4\" ry=\"4\" stroke=\"#ffffff\" stroke-width=\"0\" fill=\"#ff7272\" fill-opacity=\"1\" /><circle cx=\"3052.8\" cy=\"50.4\" r=\"1.6\" fill=\"#ffffff\" /><path d=\"M 3040.0 50.4 A 12.8 12.8 0 0 1 3065.6000000000004 50.4\" stroke=\"#ffffff\" stroke-width=\"2.4000000000000004\" fill-opacity=\"0\" /><path d=\"M 3056.901848317486 33.93539030917347 L 3065.2156921938167 29.135390309173474 L 3065.2156921938167 38.735390309173475 L 3061.8901546432844 36.81539030917347 L 3054.04707658145 50.4 L 3052.3843078061836 49.44 L 3060.2273858680182 35.85539030917347 Z\" fill=\"#ffffff\" /><rect x=\"3032.8\" y=\"80.0\" width=\"40\" height=\"40\" rx=\"4\" ry=\"4\" stroke=\"#ffffff\" stroke-width=\"0\" fill=\"#ff7272\" fill-opacity=\"1\" /><circle cx=\"3052.8\" cy=\"110.4\" r=\"1.6\" fill=\"#ffffff\" /><path d=\"M 3040.0 110.4 A 12.8 12.8 0 0 1 3065.6000000000004 110.4\" stroke=\"#ffffff\" stroke-width=\"2.4000000000000004\" fill-opacity=\"0\" /><path d=\"M 3056.901848317486 93.93539030917347 L 3065.2156921938167 89.13539030917347 L 3065.2156921938167 98.73539030917348 L 3061.8901546432844 96.81539030917347 L 3054.04707658145 110.4 L 3052.3843078061836 109.44 L 3060.2273858680182 95.85539030917347 Z\" fill=\"#ffffff\" /><rect x=\"3032.8\" y=\"140.0\" width=\"40\" height=\"40\" rx=\"4\" ry=\"4\" stroke=\"#ffffff\" stroke-width=\"0\" fill=\"#ff7272\" fill-opacity=\"1\" /><circle cx=\"3052.8\" cy=\"170.4\" r=\"1.6\" fill=\"#ffffff\" /><path d=\"M 3040.0 170.4 A 12.8 12.8 0 0 1 3065.6000000000004 170.4\" stroke=\"#ffffff\" stroke-width=\"2.4000000000000004\" fill-opacity=\"0\" /><path d=\"M 3056.901848317486 153.93539030917347 L 3065.2156921938167 149.1353903091735 L 3065.2156921938167 158.73539030917348 L 3061.8901546432844 156.81539030917347 L 3054.04707658145 170.4 L 3052.3843078061836 169.44 L 3060.2273858680182 155.85539030917346 Z\" fill=\"#ffffff\" /><rect x=\"3032.8\" y=\"200.0\" width=\"40\" height=\"40\" rx=\"4\" ry=\"4\" stroke=\"#ffffff\" stroke-width=\"0\" fill=\"#ff7272\" fill-opacity=\"1\" /><circle cx=\"3052.8\" cy=\"230.4\" r=\"1.6\" fill=\"#ffffff\" /><path d=\"M 3040.0 230.4 A 12.8 12.8 0 0 1 3065.6000000000004 230.4\" stroke=\"#ffffff\" stroke-width=\"2.4000000000000004\" fill-opacity=\"0\" /><path d=\"M 3056.901848317486 213.93539030917347 L 3065.2156921938167 209.1353903091735 L 3065.2156921938167 218.73539030917348 L 3061.8901546432844 216.81539030917347 L 3054.04707658145 230.4 L 3052.3843078061836 229.44 L 3060.2273858680182 215.85539030917346 Z\" fill=\"#ffffff\" /></svg>"
      ],
      "text/plain": [
       "<mindquantum.io.display.circuit_svg_drawer.SVGCircuit at 0x78f8d3b18b20>"
      ]
     },
     "execution_count": 12,
     "metadata": {},
     "output_type": "execute_result"
    }
   ],
   "source": [
    "# To check the correctness of the quantum circuit and parameter names.\n",
    "\n",
    "p = 1 \n",
    "circ = build_ansatz(p)\n",
    "\n",
    "# Add measurement gates\n",
    "for node in G.nodes:\n",
    "    circ += Measure().on(node)\n",
    "    \n",
    "circ.summary() \n",
    "circ.svg()"
   ]
  },
  {
   "cell_type": "markdown",
   "metadata": {},
   "source": [
    "# Parameter training"
   ]
  },
  {
   "cell_type": "code",
   "execution_count": 13,
   "metadata": {},
   "outputs": [
    {
     "name": "stdout",
     "output_type": "stream",
     "text": [
      "i = 0, energy = -5.241708\n",
      "i = 10, energy = -6.211890\n",
      "i = 20, energy = -6.664239\n",
      "i = 30, energy = -6.745536\n",
      "i = 40, energy = -6.782524\n",
      "i = 50, energy = -6.801113\n",
      "i = 60, energy = -6.824361\n",
      "i = 70, energy = -6.856626\n",
      "i = 80, energy = -6.888201\n",
      "i = 90, energy = -6.909112\n",
      "i = 100, energy = -6.926779\n",
      "i = 110, energy = -6.940007\n",
      "i = 120, energy = -6.941297\n",
      "i = 130, energy = -6.941150\n",
      "i = 140, energy = -6.941843\n",
      "i = 150, energy = -6.941796\n",
      "i = 160, energy = -6.941838\n",
      "i = 170, energy = -6.941859\n",
      "i = 180, energy = -6.941856\n",
      "i = 190, energy = -6.941860\n",
      "i = 200, energy = -6.941860\n",
      "i = 210, energy = -6.941860\n",
      "i = 220, energy = -6.941860\n",
      "i = 230, energy = -6.941860\n",
      "i = 240, energy = -6.941860\n",
      "i = 250, energy = -6.941860\n",
      "i = 260, energy = -6.941860\n",
      "i = 270, energy = -6.941860\n",
      "i = 280, energy = -6.941860\n",
      "i = 290, energy = -6.941860\n",
      "i = 300, energy = -6.941860\n",
      "i = 310, energy = -6.941860\n",
      "i = 320, energy = -6.941860\n",
      "i = 330, energy = -6.941860\n",
      "i = 340, energy = -6.941860\n",
      "i = 350, energy = -6.941860\n",
      "i = 360, energy = -6.941860\n",
      "i = 370, energy = -6.941860\n",
      "i = 380, energy = -6.941860\n",
      "i = 390, energy = -6.941860\n",
      "i = 400, energy = -6.941860\n",
      "i = 410, energy = -6.941860\n",
      "i = 420, energy = -6.941860\n",
      "i = 430, energy = -6.941860\n",
      "i = 440, energy = -6.941860\n",
      "i = 450, energy = -6.941860\n",
      "i = 460, energy = -6.941860\n",
      "i = 470, energy = -6.941860\n",
      "i = 480, energy = -6.941860\n",
      "i = 490, energy = -6.941860\n"
     ]
    }
   ],
   "source": [
    "p = 7                   # Set the number of ansatz layers of the quantum circuit\n",
    "ham = Hamiltonian(H_C)    # Generate Hamiltonian\n",
    "circ = build_ansatz(p)    # Build ansatz\n",
    "\n",
    "ms.set_context(mode=ms.PYNATIVE_MODE, device_target=\"CPU\")\n",
    "sim = Simulator('mqvector', circ.n_qubits)                     # Create a simulator, backend uses 'mqvector'\n",
    "grad_ops = sim.get_expectation_with_grad(ham, circ)            # Get operators that can compute the expected value and gradient\n",
    "net = MQAnsatzOnlyLayer(grad_ops)                              # Generate a neural network to be trained. \n",
    "\n",
    "# Set the selection range of initial parameters\n",
    "init_params = []\n",
    "for name in circ.params_name:\n",
    "    np.random.seed(42)                                     # Set a random seed here for easy reproduction\n",
    "    if 'gamma' in name:\n",
    "        init_params.append(np.random.rand() * 2 * np.pi)   # gamma∈(0, 2*pi)\n",
    "    elif 'beta' in name:\n",
    "        init_params.append(np.random.rand() * np.pi)       # beta∈(0, pi)\n",
    "    else:\n",
    "        raise ValueError(f\"Unexpected parameter name: {name}\")\n",
    "\n",
    "init_params_weight = ms.Tensor(init_params, dtype=net.weight.dtype)\n",
    "net.weight = Parameter(init_params_weight)\n",
    "initial_parameters = dict(zip(circ.params_name, net.weight.asnumpy()))\n",
    "\n",
    "opti = nn.Adam(net.trainable_params(), learning_rate = 0.05)    # Set the Adam optimizer with a learning rate of 0.05 for all trainable parameters\n",
    "train_net = nn.TrainOneStepCell(net, opti)                      # Train the neural network for one step            \n",
    "\n",
    "\n",
    "# Train the neural network and calculate the results. Note: Each time 'train_net()' is run, the neural network is trained one step\n",
    "for i in range(500):\n",
    "    energy = train_net()    \n",
    "\n",
    "    if i%10 ==0:\n",
    "        print('i = %d, energy = %f'%(i,energy))"
   ]
  },
  {
   "cell_type": "code",
   "execution_count": 14,
   "metadata": {},
   "outputs": [
    {
     "name": "stdout",
     "output_type": "stream",
     "text": [
      "The number of total_qubits is: 5\n",
      "The number of useful_qubits is: 4\n",
      "targets_set is: {'0100'}\n"
     ]
    }
   ],
   "source": [
    "def compute_total_probability(state, target_bitstrings, useful_qubits, total_qubits):\n",
    "    \"\"\"\n",
    "    Compute the sum of marginal probabilities of multiple target bitstrings over the first useful_qubits qubits.\n",
    "    \n",
    "    parameter：\n",
    "    - state: 2^n-dimensional complex vector, quantum state\n",
    "    - target_bitstrings:  A list of target bitstrings, such as [\"0010\", \"00100\"] (low-endian to high-endian)\n",
    "    - useful_qubits: Number of useful qubits k\n",
    "    - total_qubits:  Total number of qubits n\n",
    "    \n",
    "    return：\n",
    "    - The sum of marginal probabilities（fidelity with target subspace）\n",
    "    \"\"\"\n",
    "    targets_set = set(bs[::-1] for bs in target_bitstrings)  # reverse bits for correct indexing\n",
    "    prob = 0.0\n",
    "    \n",
    "    \n",
    "    for i in range(2 ** total_qubits):\n",
    "        b = format(i, f'0{total_qubits}b')  \n",
    "        useful_part = b[-useful_qubits:]\n",
    "        \n",
    "        if useful_part in targets_set:\n",
    "            prob += np.abs(state[i]) ** 2\n",
    "            #print(\"Marginal probability obtained by trace out auxiliary qubits:\", np.abs(state[i]) ** 2)\n",
    "            \n",
    "    return prob\n",
    "\n",
    "total_qubits = circ.n_qubits\n",
    "useful_qubits = len(G.nodes())\n",
    "target_bitstrings = target_bit_strings                   # low-endian to high-endian, obtained from solutions obtained by classical methods.\n",
    "targets_set = set(bs[::-1] for bs in target_bitstrings)  # reverse bits for correct indexing\n",
    "\n",
    "print(\"The number of total_qubits is:\", total_qubits)\n",
    "print(\"The number of useful_qubits is:\", useful_qubits)\n",
    "print(\"targets_set is:\", targets_set)"
   ]
  },
  {
   "cell_type": "code",
   "execution_count": 15,
   "metadata": {},
   "outputs": [
    {
     "name": "stdout",
     "output_type": "stream",
     "text": [
      "Total marginal probability: 0.9521405234198987\n",
      "initial parameter is: {'gamma0': 2.3533049, 'beta0': 1.1766524, 'gamma1': 2.3533049, 'beta1': 1.1766524, 'gamma2': 2.3533049, 'beta2': 1.1766524, 'gamma3': 2.3533049, 'beta3': 1.1766524, 'gamma4': 2.3533049, 'beta4': 1.1766524, 'gamma5': 2.3533049, 'beta5': 1.1766524, 'gamma6': 2.3533049, 'beta6': 1.1766524}\n"
     ]
    }
   ],
   "source": [
    "pr = dict(zip(circ.params_name, net.weight.asnumpy()))   # Obtain quantum circuit parameters\n",
    "state = circ.get_qs(pr = pr)                             # Get the final state of the quantum circuit after parameter training\n",
    "\n",
    "\n",
    "probability = compute_total_probability(state, target_bitstrings, useful_qubits, total_qubits)\n",
    "print(\"Total marginal probability:\", probability)\n",
    "\n",
    "print('initial parameter is: {}'.format(initial_parameters))          # initial parameters\n",
    "# print(('optimal parameter: {}'.format(pr)))                           # optimal parameters after training\n",
    "# print('The F value is: {}'.format(energy))                            # The objective function value after parameter optimization (minimization)"
   ]
  },
  {
   "cell_type": "code",
   "execution_count": 16,
   "metadata": {},
   "outputs": [
    {
     "name": "stdout",
     "output_type": "stream",
     "text": [
      "counts={'0000': 0.000492023848335205, '0001': 0.006282655180272397, '0010': 0.006282655180272427, '0011': 0.0014119028242241922, '0100': 0.9521405234198987, '0101': 0.0041565069493752944, '0110': 0.004156506949375278, '0111': 0.005010132229578396, '1000': 4.1190907982755426e-05, '1001': 0.003285272764496255, '1010': 0.003285272764496239, '1011': 0.0010229381782942057, '1100': 0.011309941233769646, '1101': 0.00021748333145233843, '1110': 0.00021748333145233566, '1111': 0.0006875109067250523}\n"
     ]
    }
   ],
   "source": [
    "def counts(state, useful_qubits):\n",
    "    \n",
    "    amp = np.abs(state) ** 2\n",
    "    total_qubits = int(np.log2(len(amp)))\n",
    "    counts = {}\n",
    "\n",
    "    # Calculating marginal probabilities\n",
    "    for i in range(len(amp)):\n",
    "        b = format(i, f'0{total_qubits}b')     # n-bit binary string\n",
    "        useful_part = b[-useful_qubits:]       # Take the last k bits (the low bit is on the right)\n",
    "        counts[useful_part] = counts.get(useful_part, 0) + amp[i]\n",
    "    \n",
    "    \n",
    "    return counts\n",
    "\n",
    "bitstring_probs = counts(state, useful_qubits)\n",
    "print('counts={}'.format(bitstring_probs))"
   ]
  },
  {
   "cell_type": "code",
   "execution_count": 17,
   "metadata": {},
   "outputs": [
    {
     "data": {
      "image/png": "[encoded data removed]",
      "text/plain": [
       "<Figure size 600x400 with 1 Axes>"
      ]
     },
     "metadata": {},
     "output_type": "display_data"
    }
   ],
   "source": [
    "def show_useful_amp(state, useful_qubits, highlights=None):\n",
    "    \"\"\"\n",
    "    Shows the marginal probability distribution of the first useful_qubits qubits, with the ability to highlight multiple target bitstrings.\n",
    "\n",
    "    Parameters：\n",
    "    - state: quantum state vector（complex）\n",
    "    - useful_qubits: Number of useful qubits\n",
    "    - highlights: list[str]，the target state to highlighted, which can be None\n",
    "    \"\"\"\n",
    "    amp = np.abs(state) ** 2\n",
    "    total_qubits = int(np.log2(len(amp)))\n",
    "    counts = {}\n",
    "\n",
    "    # Calculating marginal probabilities\n",
    "    for i in range(len(amp)):\n",
    "        b = format(i, f'0{total_qubits}b')     # n-bit binary string\n",
    "        useful_part = b[-useful_qubits:]       # Take the last k bits (the low bit is on the right)\n",
    "        counts[useful_part] = counts.get(useful_part, 0) + amp[i]\n",
    "\n",
    "    # Preparing plot data\n",
    "    labels = sorted(counts.keys())\n",
    "    values = [counts[k] for k in labels]\n",
    "    highlights = set(highlights or [])  \n",
    "\n",
    "    # Highlight color setting : red is the target state, others are blue\n",
    "    colors = ['IndianRed' if lbl in highlights else 'SteelBlue' for lbl in labels]\n",
    "\n",
    "    # Plotting\n",
    "    plt.figure(figsize=(6, 4))\n",
    "    bars = plt.bar(labels, values, color=colors)\n",
    "    plt.xticks(rotation=45)\n",
    "    plt.title(f\"Result Distribution of p = 7 when fixing initial parameters \\n (Guerrero's QAOA)\")\n",
    "    plt.xlabel(f\"Bitstrings (reversed)\", fontsize= 12)\n",
    "    plt.ylabel(f\"Probability\", fontsize= 12)\n",
    "\n",
    "    for bar, prob in zip(bars, values):\n",
    "        height = bar.get_height()\n",
    "        plt.text(bar.get_x() + bar.get_width() / 2, height, f'{prob:.3f}', ha='center', va='bottom', fontsize=6)\n",
    "\n",
    "    if highlights:\n",
    "        red_patch = plt.Rectangle((0,0),1,1,fc='IndianRed', edgecolor='IndianRed')\n",
    "        plt.legend([red_patch], ['Target state'], loc= 0)\n",
    "\n",
    "    #plt.savefig(\"Result Distribution of p = 8 (Guerrero's QAOA method).pdf\", bbox_inches='tight', dpi=300)\n",
    "    plt.tight_layout()\n",
    "    plt.show()\n",
    "    \n",
    "    \n",
    "# Convert the set displayed in targets_set to list type\n",
    "target_states = list(targets_set)         #  bitstrings is reversed\n",
    "\n",
    "# draw image\n",
    "show_useful_amp(state, useful_qubits= len(G.nodes()), highlights=target_states)\n"
   ]
  },
  {
   "cell_type": "code",
   "execution_count": 18,
   "metadata": {},
   "outputs": [
    {
     "data": {
      "image/svg+xml": [
       "<svg xmlns=\"http://www.w3.org/2000/svg\" width=\"422.8\" height=\"447.0\" xmlns:xlink=\"http://www.w3.org/1999/xlink\"><rect x=\"0\" y=\"0\" width=\"422.8\" height=\"447.0\" fill=\"#ffffff\" /><text x=\"10\" y=\"17.0\" font-size=\"14px\" dominant-baseline=\"middle\" text-anchor=\"start\" >Shots:\n",
       " 1000 </text><text x=\"10\" y=\"31.0\" font-size=\"14px\" dominant-baseline=\"middle\" text-anchor=\"start\" >Keys: q3 q2 q1 q0 </text><line x1=\"52.8\" x2=\"412.8\" y1=\"62.0\" y2=\"62.0\" stroke=\"#adb0b8\" stroke-width=\"1\" /><line x1=\"52.8\" x2=\"52.8\" y1=\"55.0\" y2=\"62.0\" stroke=\"#adb0b8\" stroke-width=\"1\" /><text x=\"54.8\" y=\"60.0\" font-size=\"12px\" dominant-baseline=\"bottom\" text-anchor=\"start\" fill=\"#575d6c\" >0.0 </text><line x1=\"52.8\" x2=\"52.8\" y1=\"62.0\" y2=\"437.0\" stroke=\"#adb0b8\" stroke-width=\"1\" /><line x1=\"112.8\" x2=\"112.8\" y1=\"55.0\" y2=\"62.0\" stroke=\"#adb0b8\" stroke-width=\"1\" /><text x=\"114.8\" y=\"60.0\" font-size=\"12px\" dominant-baseline=\"bottom\" text-anchor=\"start\" fill=\"#575d6c\" >0.191 </text><line x1=\"112.8\" x2=\"112.8\" y1=\"62.0\" y2=\"437.0\" stroke=\"#dfe1e6\" stroke-width=\"1\" /><line x1=\"172.8\" x2=\"172.8\" y1=\"55.0\" y2=\"62.0\" stroke=\"#adb0b8\" stroke-width=\"1\" /><text x=\"174.8\" y=\"60.0\" font-size=\"12px\" dominant-baseline=\"bottom\" text-anchor=\"start\" fill=\"#575d6c\" >0.382 </text><line x1=\"172.8\" x2=\"172.8\" y1=\"62.0\" y2=\"437.0\" stroke=\"#dfe1e6\" stroke-width=\"1\" /><line x1=\"232.8\" x2=\"232.8\" y1=\"55.0\" y2=\"62.0\" stroke=\"#adb0b8\" stroke-width=\"1\" /><text x=\"234.8\" y=\"60.0\" font-size=\"12px\" dominant-baseline=\"bottom\" text-anchor=\"start\" fill=\"#575d6c\" >0.573 </text><line x1=\"232.8\" x2=\"232.8\" y1=\"62.0\" y2=\"437.0\" stroke=\"#dfe1e6\" stroke-width=\"1\" /><line x1=\"292.8\" x2=\"292.8\" y1=\"55.0\" y2=\"62.0\" stroke=\"#adb0b8\" stroke-width=\"1\" /><text x=\"294.8\" y=\"60.0\" font-size=\"12px\" dominant-baseline=\"bottom\" text-anchor=\"start\" fill=\"#575d6c\" >0.764 </text><line x1=\"292.8\" x2=\"292.8\" y1=\"62.0\" y2=\"437.0\" stroke=\"#dfe1e6\" stroke-width=\"1\" /><line x1=\"352.8\" x2=\"352.8\" y1=\"55.0\" y2=\"62.0\" stroke=\"#adb0b8\" stroke-width=\"1\" /><text x=\"354.8\" y=\"60.0\" font-size=\"12px\" dominant-baseline=\"bottom\" text-anchor=\"start\" fill=\"#575d6c\" >0.955 </text><line x1=\"352.8\" x2=\"352.8\" y1=\"62.0\" y2=\"437.0\" stroke=\"#dfe1e6\" stroke-width=\"1\" /><text x=\"43.8\" y=\"85.0\" font-size=\"12px\" dominant-baseline=\"middle\" text-anchor=\"end\" fill=\"#575d6c\" >0000 </text><line x1=\"45.8\" x2=\"52.8\" y1=\"85.0\" y2=\"85.0\" stroke=\"#adb0b8\" stroke-width=\"1\" /><rect x=\"52.8\" y=\"73.0\" width=\"0.3141361256544503\" height=\"24\" id=\"bar_0_1759918333708335067\" fill=\"#5e7ce0\" /><text x=\"63.11413612565445\" y=\"85.0\" font-size=\"14px\" dominant-baseline=\"middle\" text-anchor=\"start\" fill=\"#575d6c\" id=\"bar_text_0_1759918333708366005\" fill-opacity=\"0\" >1 </text><text x=\"43.8\" y=\"115.0\" font-size=\"12px\" dominant-baseline=\"middle\" text-anchor=\"end\" fill=\"#575d6c\" >0001 </text><line x1=\"45.8\" x2=\"52.8\" y1=\"115.0\" y2=\"115.0\" stroke=\"#adb0b8\" stroke-width=\"1\" /><rect x=\"52.8\" y=\"103.0\" width=\"2.198952879581152\" height=\"24\" id=\"bar_1_1759918333708393170\" fill=\"#16acff\" /><text x=\"64.99895287958115\" y=\"115.0\" font-size=\"14px\" dominant-baseline=\"middle\" text-anchor=\"start\" fill=\"#575d6c\" id=\"bar_text_1_1759918333708409688\" fill-opacity=\"0\" >7 </text><text x=\"43.8\" y=\"145.0\" font-size=\"12px\" dominant-baseline=\"middle\" text-anchor=\"end\" fill=\"#575d6c\" >0010 </text><line x1=\"45.8\" x2=\"52.8\" y1=\"145.0\" y2=\"145.0\" stroke=\"#adb0b8\" stroke-width=\"1\" /><rect x=\"52.8\" y=\"133.0\" width=\"1.884816753926702\" height=\"24\" id=\"bar_2_1759918333708434157\" fill=\"#5e7ce0\" /><text x=\"64.6848167539267\" y=\"145.0\" font-size=\"14px\" dominant-baseline=\"middle\" text-anchor=\"start\" fill=\"#575d6c\" id=\"bar_text_2_1759918333708448056\" fill-opacity=\"0\" >6 </text><text x=\"43.8\" y=\"175.0\" font-size=\"12px\" dominant-baseline=\"middle\" text-anchor=\"end\" fill=\"#575d6c\" >0011 </text><line x1=\"45.8\" x2=\"52.8\" y1=\"175.0\" y2=\"175.0\" stroke=\"#adb0b8\" stroke-width=\"1\" /><rect x=\"52.8\" y=\"163.0\" width=\"0.942408376963351\" height=\"24\" id=\"bar_3_1759918333708472183\" fill=\"#16acff\" /><text x=\"63.74240837696335\" y=\"175.0\" font-size=\"14px\" dominant-baseline=\"middle\" text-anchor=\"start\" fill=\"#575d6c\" id=\"bar_text_3_1759918333708485796\" fill-opacity=\"0\" >3 </text><text x=\"43.8\" y=\"205.0\" font-size=\"12px\" dominant-baseline=\"middle\" text-anchor=\"end\" fill=\"#575d6c\" >0100 </text><line x1=\"45.8\" x2=\"52.8\" y1=\"205.0\" y2=\"205.0\" stroke=\"#adb0b8\" stroke-width=\"1\" /><rect x=\"52.8\" y=\"193.0\" width=\"300.00000000000006\" height=\"24\" id=\"bar_4_1759918333708508284\" fill=\"#5e7ce0\" /><text x=\"362.80000000000007\" y=\"205.0\" font-size=\"14px\" dominant-baseline=\"middle\" text-anchor=\"start\" fill=\"#575d6c\" id=\"bar_text_4_1759918333708532887\" fill-opacity=\"0\" >955 </text><text x=\"43.8\" y=\"235.0\" font-size=\"12px\" dominant-baseline=\"middle\" text-anchor=\"end\" fill=\"#575d6c\" >0101 </text><line x1=\"45.8\" x2=\"52.8\" y1=\"235.0\" y2=\"235.0\" stroke=\"#adb0b8\" stroke-width=\"1\" /><rect x=\"52.8\" y=\"223.0\" width=\"2.198952879581152\" height=\"24\" id=\"bar_5_1759918333708558033\" fill=\"#16acff\" /><text x=\"64.99895287958115\" y=\"235.0\" font-size=\"14px\" dominant-baseline=\"middle\" text-anchor=\"start\" fill=\"#575d6c\" id=\"bar_text_5_1759918333708573449\" fill-opacity=\"0\" >7 </text><text x=\"43.8\" y=\"265.0\" font-size=\"12px\" dominant-baseline=\"middle\" text-anchor=\"end\" fill=\"#575d6c\" >0110 </text><line x1=\"45.8\" x2=\"52.8\" y1=\"265.0\" y2=\"265.0\" stroke=\"#adb0b8\" stroke-width=\"1\" /><rect x=\"52.8\" y=\"253.0\" width=\"1.2565445026178013\" height=\"24\" id=\"bar_6_1759918333708594714\" fill=\"#5e7ce0\" /><text x=\"64.0565445026178\" y=\"265.0\" font-size=\"14px\" dominant-baseline=\"middle\" text-anchor=\"start\" fill=\"#575d6c\" id=\"bar_text_6_1759918333708608755\" fill-opacity=\"0\" >4 </text><text x=\"43.8\" y=\"295.0\" font-size=\"12px\" dominant-baseline=\"middle\" text-anchor=\"end\" fill=\"#575d6c\" >0111 </text><line x1=\"45.8\" x2=\"52.8\" y1=\"295.0\" y2=\"295.0\" stroke=\"#adb0b8\" stroke-width=\"1\" /><rect x=\"52.8\" y=\"283.0\" width=\"1.2565445026178013\" height=\"24\" id=\"bar_7_1759918333708628916\" fill=\"#16acff\" /><text x=\"64.0565445026178\" y=\"295.0\" font-size=\"14px\" dominant-baseline=\"middle\" text-anchor=\"start\" fill=\"#575d6c\" id=\"bar_text_7_1759918333708641901\" fill-opacity=\"0\" >4 </text><text x=\"43.8\" y=\"325.0\" font-size=\"12px\" dominant-baseline=\"middle\" text-anchor=\"end\" fill=\"#575d6c\" >1001 </text><line x1=\"45.8\" x2=\"52.8\" y1=\"325.0\" y2=\"325.0\" stroke=\"#adb0b8\" stroke-width=\"1\" /><rect x=\"52.8\" y=\"313.0\" width=\"0.3141361256544503\" height=\"24\" id=\"bar_8_1759918333708662170\" fill=\"#5e7ce0\" /><text x=\"63.11413612565445\" y=\"325.0\" font-size=\"14px\" dominant-baseline=\"middle\" text-anchor=\"start\" fill=\"#575d6c\" id=\"bar_text_8_1759918333708675211\" fill-opacity=\"0\" >1 </text><text x=\"43.8\" y=\"355.0\" font-size=\"12px\" dominant-baseline=\"middle\" text-anchor=\"end\" fill=\"#575d6c\" >1010 </text><line x1=\"45.8\" x2=\"52.8\" y1=\"355.0\" y2=\"355.0\" stroke=\"#adb0b8\" stroke-width=\"1\" /><rect x=\"52.8\" y=\"343.0\" width=\"0.6282722513089006\" height=\"24\" id=\"bar_9_1759918333708693780\" fill=\"#16acff\" /><text x=\"63.4282722513089\" y=\"355.0\" font-size=\"14px\" dominant-baseline=\"middle\" text-anchor=\"start\" fill=\"#575d6c\" id=\"bar_text_9_1759918333708708042\" fill-opacity=\"0\" >2 </text><text x=\"43.8\" y=\"385.0\" font-size=\"12px\" dominant-baseline=\"middle\" text-anchor=\"end\" fill=\"#575d6c\" >1100 </text><line x1=\"45.8\" x2=\"52.8\" y1=\"385.0\" y2=\"385.0\" stroke=\"#adb0b8\" stroke-width=\"1\" /><rect x=\"52.8\" y=\"373.0\" width=\"2.8272251308900533\" height=\"24\" id=\"bar_10_1759918333708729212\" fill=\"#5e7ce0\" /><text x=\"65.62722513089005\" y=\"385.0\" font-size=\"14px\" dominant-baseline=\"middle\" text-anchor=\"start\" fill=\"#575d6c\" id=\"bar_text_10_1759918333708742444\" fill-opacity=\"0\" >9 </text><text x=\"43.8\" y=\"415.0\" font-size=\"12px\" dominant-baseline=\"middle\" text-anchor=\"end\" fill=\"#575d6c\" >1101 </text><line x1=\"45.8\" x2=\"52.8\" y1=\"415.0\" y2=\"415.0\" stroke=\"#adb0b8\" stroke-width=\"1\" /><rect x=\"52.8\" y=\"403.0\" width=\"0.3141361256544503\" height=\"24\" id=\"bar_11_1759918333708763270\" fill=\"#16acff\" /><text x=\"63.11413612565445\" y=\"415.0\" font-size=\"14px\" dominant-baseline=\"middle\" text-anchor=\"start\" fill=\"#575d6c\" id=\"bar_text_11_1759918333708775877\" fill-opacity=\"0\" >1 </text><animate xlink:href=\"#bar_0_1759918333708335067\" attributeName=\"width\" from=\"0\" to=\"0.3141361256544503\" dur=\"0.3s\" calcMode=\"spline\" values=\"0; 0.3141361256544503\" keyTimes=\"0; 1\" keySplines=\"0.42 0 1 0.8;\" fill=\"freeze\" /><animate xlink:href=\"#bar_1_1759918333708393170\" attributeName=\"width\" from=\"0\" to=\"2.198952879581152\" dur=\"0.3s\" calcMode=\"spline\" values=\"0; 2.198952879581152\" keyTimes=\"0; 1\" keySplines=\"0.42 0 1 0.8;\" fill=\"freeze\" /><animate xlink:href=\"#bar_2_1759918333708434157\" attributeName=\"width\" from=\"0\" to=\"1.884816753926702\" dur=\"0.3s\" calcMode=\"spline\" values=\"0; 1.884816753926702\" keyTimes=\"0; 1\" keySplines=\"0.42 0 1 0.8;\" fill=\"freeze\" /><animate xlink:href=\"#bar_3_1759918333708472183\" attributeName=\"width\" from=\"0\" to=\"0.942408376963351\" dur=\"0.3s\" calcMode=\"spline\" values=\"0; 0.942408376963351\" keyTimes=\"0; 1\" keySplines=\"0.42 0 1 0.8;\" fill=\"freeze\" /><animate xlink:href=\"#bar_4_1759918333708508284\" attributeName=\"width\" from=\"0\" to=\"300.00000000000006\" dur=\"0.3s\" calcMode=\"spline\" values=\"0; 300.00000000000006\" keyTimes=\"0; 1\" keySplines=\"0.42 0 1 0.8;\" fill=\"freeze\" /><animate xlink:href=\"#bar_5_1759918333708558033\" attributeName=\"width\" from=\"0\" to=\"2.198952879581152\" dur=\"0.3s\" calcMode=\"spline\" values=\"0; 2.198952879581152\" keyTimes=\"0; 1\" keySplines=\"0.42 0 1 0.8;\" fill=\"freeze\" /><animate xlink:href=\"#bar_6_1759918333708594714\" attributeName=\"width\" from=\"0\" to=\"1.2565445026178013\" dur=\"0.3s\" calcMode=\"spline\" values=\"0; 1.2565445026178013\" keyTimes=\"0; 1\" keySplines=\"0.42 0 1 0.8;\" fill=\"freeze\" /><animate xlink:href=\"#bar_7_1759918333708628916\" attributeName=\"width\" from=\"0\" to=\"1.2565445026178013\" dur=\"0.3s\" calcMode=\"spline\" values=\"0; 1.2565445026178013\" keyTimes=\"0; 1\" keySplines=\"0.42 0 1 0.8;\" fill=\"freeze\" /><animate xlink:href=\"#bar_8_1759918333708662170\" attributeName=\"width\" from=\"0\" to=\"0.3141361256544503\" dur=\"0.3s\" calcMode=\"spline\" values=\"0; 0.3141361256544503\" keyTimes=\"0; 1\" keySplines=\"0.42 0 1 0.8;\" fill=\"freeze\" /><animate xlink:href=\"#bar_9_1759918333708693780\" attributeName=\"width\" from=\"0\" to=\"0.6282722513089006\" dur=\"0.3s\" calcMode=\"spline\" values=\"0; 0.6282722513089006\" keyTimes=\"0; 1\" keySplines=\"0.42 0 1 0.8;\" fill=\"freeze\" /><animate xlink:href=\"#bar_10_1759918333708729212\" attributeName=\"width\" from=\"0\" to=\"2.8272251308900533\" dur=\"0.3s\" calcMode=\"spline\" values=\"0; 2.8272251308900533\" keyTimes=\"0; 1\" keySplines=\"0.42 0 1 0.8;\" fill=\"freeze\" /><animate xlink:href=\"#bar_11_1759918333708763270\" attributeName=\"width\" from=\"0\" to=\"0.3141361256544503\" dur=\"0.3s\" calcMode=\"spline\" values=\"0; 0.3141361256544503\" keyTimes=\"0; 1\" keySplines=\"0.42 0 1 0.8;\" fill=\"freeze\" /><animate xlink:href=\"#bar_4_1759918333708508284\" attributeName=\"fill\" from=\"#5e7ce0\" to=\"#fac209\" dur=\"0.15s\" calcMode=\"spline\" values=\"#5e7ce0; #fac209\" keyTimes=\"0; 1\" keySplines=\"0.42 0 1 0.8;\" fill=\"freeze\" begin=\"0.3s\" /><animate xlink:href=\"#bar_text_0_1759918333708366005\" attributeName=\"fill-opacity\" from=\"0\" to=\"1\" dur=\"0.15s\" calcMode=\"spline\" values=\"0; 1\" keyTimes=\"0; 1\" keySplines=\"0.42 0 1 0.8;\" fill=\"freeze\" begin=\"0.3s\" /><animate xlink:href=\"#bar_text_1_1759918333708409688\" attributeName=\"fill-opacity\" from=\"0\" to=\"1\" dur=\"0.15s\" calcMode=\"spline\" values=\"0; 1\" keyTimes=\"0; 1\" keySplines=\"0.42 0 1 0.8;\" fill=\"freeze\" begin=\"0.3s\" /><animate xlink:href=\"#bar_text_2_1759918333708448056\" attributeName=\"fill-opacity\" from=\"0\" to=\"1\" dur=\"0.15s\" calcMode=\"spline\" values=\"0; 1\" keyTimes=\"0; 1\" keySplines=\"0.42 0 1 0.8;\" fill=\"freeze\" begin=\"0.3s\" /><animate xlink:href=\"#bar_text_3_1759918333708485796\" attributeName=\"fill-opacity\" from=\"0\" to=\"1\" dur=\"0.15s\" calcMode=\"spline\" values=\"0; 1\" keyTimes=\"0; 1\" keySplines=\"0.42 0 1 0.8;\" fill=\"freeze\" begin=\"0.3s\" /><animate xlink:href=\"#bar_text_4_1759918333708532887\" attributeName=\"fill-opacity\" from=\"0\" to=\"1\" dur=\"0.15s\" calcMode=\"spline\" values=\"0; 1\" keyTimes=\"0; 1\" keySplines=\"0.42 0 1 0.8;\" fill=\"freeze\" begin=\"0.3s\" /><animate xlink:href=\"#bar_text_5_1759918333708573449\" attributeName=\"fill-opacity\" from=\"0\" to=\"1\" dur=\"0.15s\" calcMode=\"spline\" values=\"0; 1\" keyTimes=\"0; 1\" keySplines=\"0.42 0 1 0.8;\" fill=\"freeze\" begin=\"0.3s\" /><animate xlink:href=\"#bar_text_6_1759918333708608755\" attributeName=\"fill-opacity\" from=\"0\" to=\"1\" dur=\"0.15s\" calcMode=\"spline\" values=\"0; 1\" keyTimes=\"0; 1\" keySplines=\"0.42 0 1 0.8;\" fill=\"freeze\" begin=\"0.3s\" /><animate xlink:href=\"#bar_text_7_1759918333708641901\" attributeName=\"fill-opacity\" from=\"0\" to=\"1\" dur=\"0.15s\" calcMode=\"spline\" values=\"0; 1\" keyTimes=\"0; 1\" keySplines=\"0.42 0 1 0.8;\" fill=\"freeze\" begin=\"0.3s\" /><animate xlink:href=\"#bar_text_8_1759918333708675211\" attributeName=\"fill-opacity\" from=\"0\" to=\"1\" dur=\"0.15s\" calcMode=\"spline\" values=\"0; 1\" keyTimes=\"0; 1\" keySplines=\"0.42 0 1 0.8;\" fill=\"freeze\" begin=\"0.3s\" /><animate xlink:href=\"#bar_text_9_1759918333708708042\" attributeName=\"fill-opacity\" from=\"0\" to=\"1\" dur=\"0.15s\" calcMode=\"spline\" values=\"0; 1\" keyTimes=\"0; 1\" keySplines=\"0.42 0 1 0.8;\" fill=\"freeze\" begin=\"0.3s\" /><animate xlink:href=\"#bar_text_10_1759918333708742444\" attributeName=\"fill-opacity\" from=\"0\" to=\"1\" dur=\"0.15s\" calcMode=\"spline\" values=\"0; 1\" keyTimes=\"0; 1\" keySplines=\"0.42 0 1 0.8;\" fill=\"freeze\" begin=\"0.3s\" /><animate xlink:href=\"#bar_text_11_1759918333708775877\" attributeName=\"fill-opacity\" from=\"0\" to=\"1\" dur=\"0.15s\" calcMode=\"spline\" values=\"0; 1\" keyTimes=\"0; 1\" keySplines=\"0.42 0 1 0.8;\" fill=\"freeze\" begin=\"0.3s\" /><text x=\"213.9\" y=\"41.0\" font-size=\"14px\" dominant-baseline=\"middle\" text-anchor=\"middle\" >probability </text></svg>"
      ],
      "text/plain": [
       "<mindquantum.io.display.measure_res_svg_drawer.SVGMeasure at 0x78f8d3abd130>"
      ]
     },
     "execution_count": 18,
     "metadata": {},
     "output_type": "execute_result"
    }
   ],
   "source": [
    "# Display the results obtained by the QAOA method\n",
    "\n",
    "circ += UN(Measure(), len(G.nodes()))              # Add measurement gates \n",
    "result = sim.sampling(circ, pr=pr, shots=1000)      # Sampling the quantum circuit circuit2 1000 times by the simulator\n",
    "result.svg()                                        # print sampling results"
   ]
  },
  {
   "cell_type": "markdown",
   "metadata": {},
   "source": [
    "# Train QAOA ansatz multiple times with different initialization parameters"
   ]
  },
  {
   "cell_type": "code",
   "execution_count": 19,
   "metadata": {},
   "outputs": [
    {
     "name": "stdout",
     "output_type": "stream",
     "text": [
      "The p value is: 1\n",
      "The p value is: 3\n",
      "The p value is: 5\n",
      "The p value is: 7\n"
     ]
    }
   ],
   "source": [
    "if __name__ == \"__main__\":\n",
    "    \n",
    "    results = []          # Create an empty DataFrame to store the results\n",
    "\n",
    "    for p in range(1, 8, 2):\n",
    "        print('The p value is: {}'.format(p))\n",
    "        \n",
    "        for t in range(1, 201):\n",
    "            ham = Hamiltonian(H_C)      # Generate Hamiltonian\n",
    "            circ = build_ansatz(p)      # Generate ansatz\n",
    "\n",
    "            ms.set_context(mode=ms.PYNATIVE_MODE, device_target=\"CPU\")\n",
    "            sim = Simulator('mqvector', circ.n_qubits)                           # Create a simulator, backend uses 'mqvector'\n",
    "            grad_ops = sim.get_expectation_with_grad(ham, circ)                  # Get operators that can compute the expected value and gradient\n",
    "            net = MQAnsatzOnlyLayer(grad_ops)                                    # Generate a neural network to be trained\n",
    "            \n",
    "            # Set the selection range of initial parameters\n",
    "            init_params = []\n",
    "            for name in circ.params_name:\n",
    "                if 'gamma' in name:\n",
    "                    init_params.append(np.random.rand() * 2 * np.pi)   # gamma∈(0, 2*pi)\n",
    "                elif 'beta' in name:\n",
    "                    init_params.append(np.random.rand() * np.pi)       # beta∈(0, pi)\n",
    "                else:\n",
    "                    raise ValueError(f\"Unexpected parameter name: {name}\")\n",
    "            \n",
    "            init_params_weight = ms.Tensor(init_params, dtype=net.weight.dtype)\n",
    "            net.weight = Parameter(init_params_weight)\n",
    "            initial_parameters = dict(zip(circ.params_name, net.weight.asnumpy()))\n",
    "                        \n",
    "            opti = nn.Adam(net.trainable_params(), learning_rate = 0.05)    # Set the Adam optimizer with a learning rate of 0.05 for all trainable parameters\n",
    "            train_net = nn.TrainOneStepCell(net, opti)                      # Train the neural network for one step                     \n",
    "                \n",
    "            # Train the neural network and calculate the results.\n",
    "            for i in range(500):\n",
    "                energy = train_net()\n",
    "                \n",
    "                \n",
    "            pr = dict(zip(circ.params_name, net.weight.asnumpy()))                # Obtain quantum circuit parameters\n",
    "            state = circ.get_qs(pr=pr)                                            # Get the final state of the quantum circuit after parameter training\n",
    "            \n",
    "            bitstring_probs = counts(state, useful_qubits)\n",
    "            probability = compute_total_probability(state, target_bitstrings, useful_qubits, total_qubits)\n",
    "            \n",
    "            \n",
    "            # Here, probability represents the probability of obtaining the correct solution to the MDS problem on the graph. \n",
    "            # If the MDS problem has multiple optimal solutions, this probability represents the sum of all the optimal solutions.\n",
    "\n",
    "            # Add training results to the list\n",
    "            results.append({\"p\": p, \"t\": t, \"probability\": probability, **bitstring_probs})\n",
    "\n",
    "        # Convert the list to DataFrame\n",
    "        df = pd.DataFrame(results)\n",
    "\n",
    "        # Writing DataFrame to Excel File\n",
    "        df.to_excel(r\"/home/lzztlb/liguanghui/AAResearch/liguanghui（code)/Research/Improved QAOA for MDS/experiment/4-vertex example/data/Guerrero' QAOA.xlsx\", index=False)"
   ]
  },
  {
   "cell_type": "code",
   "execution_count": null,
   "metadata": {},
   "outputs": [],
   "source": []
  }
 ],
 "metadata": {
  "kernelspec": {
   "display_name": "mind_ipykernel",
   "language": "python",
   "name": "mind_ipykernel"
  },
  "language_info": {
   "codemirror_mode": {
    "name": "ipython",
    "version": 3
   },
   "file_extension": ".py",
   "mimetype": "text/x-python",
   "name": "python",
   "nbconvert_exporter": "python",
   "pygments_lexer": "ipython3",
   "version": "3.8.18"
  }
 },
 "nbformat": 4,
 "nbformat_minor": 5
}
